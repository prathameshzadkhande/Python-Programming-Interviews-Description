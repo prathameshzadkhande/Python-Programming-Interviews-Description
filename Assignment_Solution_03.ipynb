{
 "cells": [
  {
   "cell_type": "markdown",
   "id": "970c8389",
   "metadata": {},
   "source": [
    "#### Q1.Python program to sort Python Dictionaries by Keys"
   ]
  },
  {
   "cell_type": "code",
   "execution_count": 17,
   "id": "99214bb1",
   "metadata": {},
   "outputs": [
    {
     "name": "stdout",
     "output_type": "stream",
     "text": [
      "Almods\n",
      "Apple\n",
      "Banana\n",
      "Mango\n",
      "Papai\n"
     ]
    }
   ],
   "source": [
    "dict1={\"Banana\":1,\"Apple\":5,\"Mango\":2,\"Almods\":7,\"Papai\":3}\n",
    "dict2=sorted(dict1)\n",
    "for key in dict2:\n",
    "    print(key)"
   ]
  },
  {
   "cell_type": "code",
   "execution_count": 13,
   "id": "6aa769e7",
   "metadata": {},
   "outputs": [
    {
     "data": {
      "text/plain": [
       "['Papai', 'Mango', 'Banana', 'Apple', 'Almods']"
      ]
     },
     "execution_count": 13,
     "metadata": {},
     "output_type": "execute_result"
    }
   ],
   "source": [
    "# for reverse dictionary\n",
    "dict1={\"Banana\":1,\"Apple\":5,\"Mango\":2,\"Almods\":7,\"Papai\":3}\n",
    "sorted(dict1,reverse=True)"
   ]
  },
  {
   "cell_type": "code",
   "execution_count": null,
   "id": "21ef323a",
   "metadata": {},
   "outputs": [],
   "source": []
  },
  {
   "cell_type": "markdown",
   "id": "6be1753a",
   "metadata": {},
   "source": [
    "#### Q2. Python program to sort Python Dictionaries by Values"
   ]
  },
  {
   "cell_type": "code",
   "execution_count": 24,
   "id": "70710641",
   "metadata": {},
   "outputs": [
    {
     "data": {
      "text/plain": [
       "[1, 2, 3, 5, 7]"
      ]
     },
     "execution_count": 24,
     "metadata": {},
     "output_type": "execute_result"
    }
   ],
   "source": [
    "dict1={\"Banana\":1,\"Apple\":5,\"Mango\":2,\"Almods\":7,\"Papai\":3}\n",
    "sorted(dict1.values())\n"
   ]
  },
  {
   "cell_type": "code",
   "execution_count": null,
   "id": "1ba25ac4",
   "metadata": {},
   "outputs": [],
   "source": []
  },
  {
   "cell_type": "markdown",
   "id": "6a091b00",
   "metadata": {},
   "source": [
    "#### Q3. Python program to find the sum of all items in a dictionary\n"
   ]
  },
  {
   "cell_type": "code",
   "execution_count": 27,
   "id": "13e23d9f",
   "metadata": {},
   "outputs": [
    {
     "name": "stdout",
     "output_type": "stream",
     "text": [
      "18\n"
     ]
    }
   ],
   "source": [
    "dict1={\"Banana\":1,\"Apple\":5,\"Mango\":2,\"Almods\":7,\"Papai\":3}\n",
    "count=0\n",
    "for i in dict1.values():\n",
    "    count+=i\n",
    "    \n",
    "print(count)"
   ]
  },
  {
   "cell_type": "code",
   "execution_count": null,
   "id": "336f49e2",
   "metadata": {},
   "outputs": [],
   "source": []
  },
  {
   "cell_type": "markdown",
   "id": "f9d71125",
   "metadata": {},
   "source": [
    "#### Q4.Python program to remove a key from a dictionary"
   ]
  },
  {
   "cell_type": "code",
   "execution_count": 29,
   "id": "4429569c",
   "metadata": {},
   "outputs": [
    {
     "data": {
      "text/plain": [
       "5"
      ]
     },
     "execution_count": 29,
     "metadata": {},
     "output_type": "execute_result"
    }
   ],
   "source": [
    "dict1.pop('Apple')"
   ]
  },
  {
   "cell_type": "code",
   "execution_count": 30,
   "id": "257d1402",
   "metadata": {},
   "outputs": [
    {
     "data": {
      "text/plain": [
       "{'Banana': 1, 'Mango': 2, 'Almods': 7, 'Papai': 3}"
      ]
     },
     "execution_count": 30,
     "metadata": {},
     "output_type": "execute_result"
    }
   ],
   "source": [
    "dict1"
   ]
  },
  {
   "cell_type": "code",
   "execution_count": null,
   "id": "5b2e9a76",
   "metadata": {},
   "outputs": [],
   "source": []
  },
  {
   "cell_type": "markdown",
   "id": "19c4c101",
   "metadata": {},
   "source": [
    "#### Q5.Python program to merge two Dictionaries"
   ]
  },
  {
   "cell_type": "code",
   "execution_count": 31,
   "id": "84a2d2ad",
   "metadata": {},
   "outputs": [],
   "source": [
    "dict1={\"Banana\":1,\"Apple\":5,\"Mango\":2,\"Almods\":7,\"Papai\":3}\n",
    "dict2={'avacado':11,'vadapav':22,'samosa':33}\n",
    "dict1.update(dict2)"
   ]
  },
  {
   "cell_type": "code",
   "execution_count": 32,
   "id": "e558007f",
   "metadata": {},
   "outputs": [
    {
     "data": {
      "text/plain": [
       "{'Banana': 1,\n",
       " 'Apple': 5,\n",
       " 'Mango': 2,\n",
       " 'Almods': 7,\n",
       " 'Papai': 3,\n",
       " 'avacado': 11,\n",
       " 'vadapav': 22,\n",
       " 'samosa': 33}"
      ]
     },
     "execution_count": 32,
     "metadata": {},
     "output_type": "execute_result"
    }
   ],
   "source": [
    "dict1"
   ]
  },
  {
   "cell_type": "code",
   "execution_count": 35,
   "id": "d99fad27",
   "metadata": {},
   "outputs": [
    {
     "data": {
      "text/plain": [
       "{'Banana': 1,\n",
       " 'Apple': 5,\n",
       " 'Mango': 2,\n",
       " 'Almods': 7,\n",
       " 'Papai': 3,\n",
       " 'avacado': 11,\n",
       " 'vadapav': 22,\n",
       " 'samosa': 33}"
      ]
     },
     "execution_count": 35,
     "metadata": {},
     "output_type": "execute_result"
    }
   ],
   "source": [
    "# using ** we can add multiple dictionary\n",
    "dict3={**dict1,**dict2}\n",
    "dict3"
   ]
  },
  {
   "cell_type": "code",
   "execution_count": null,
   "id": "b9cd6224",
   "metadata": {},
   "outputs": [],
   "source": []
  },
  {
   "cell_type": "markdown",
   "id": "42f090a2",
   "metadata": {},
   "source": [
    "#### Q6. Program to create grade calculator in Python"
   ]
  },
  {
   "cell_type": "code",
   "execution_count": null,
   "id": "90a02b36",
   "metadata": {},
   "outputs": [],
   "source": []
  },
  {
   "cell_type": "code",
   "execution_count": 39,
   "id": "94a7e6fb",
   "metadata": {},
   "outputs": [],
   "source": [
    "def Grade(a):\n",
    "    if a<=100:\n",
    "        if 0<=a<=15:\n",
    "            print(\"You are Fail !\")\n",
    "        elif 66<=a<=85:\n",
    "            print(\"You have A Grade\")\n",
    "        elif 86<=a<=100:\n",
    "            print(\"You have A+ Grade\")\n",
    "        elif 36<=a<=65:\n",
    "            print(\"You have B Grade\")\n",
    "        elif 16<=a<=35:\n",
    "            print(\"You have C Grade\")"
   ]
  },
  {
   "cell_type": "code",
   "execution_count": 40,
   "id": "f629ced8",
   "metadata": {},
   "outputs": [
    {
     "name": "stdout",
     "output_type": "stream",
     "text": [
      "You have C Grade\n"
     ]
    }
   ],
   "source": [
    "Grade(34)"
   ]
  },
  {
   "cell_type": "code",
   "execution_count": 48,
   "id": "32ab9029",
   "metadata": {},
   "outputs": [],
   "source": [
    "# using Dictionary\n",
    "grading_scale = {\n",
    "    'A+': (90, 100),\n",
    "    'A': (85, 89),\n",
    "    'A-': (80, 84),\n",
    "    'B+': (75, 79),\n",
    "    'B': (70, 74),\n",
    "    'B-': (65, 69),\n",
    "    'C+': (60, 64),\n",
    "    'C': (55, 59),\n",
    "    'D': (50, 54),\n",
    "    'F': (0, 49)\n",
    "}\n",
    "def Grade_cal(a):\n",
    "    for grade , (lo,up) in grading_scale.items():\n",
    "        if lo<= a <= up:\n",
    "            return grade\n",
    "    return \"Invalid Score\"\n",
    "        \n"
   ]
  },
  {
   "cell_type": "code",
   "execution_count": 51,
   "id": "7703b744",
   "metadata": {},
   "outputs": [
    {
     "data": {
      "text/plain": [
       "'F'"
      ]
     },
     "execution_count": 51,
     "metadata": {},
     "output_type": "execute_result"
    }
   ],
   "source": [
    "Grade_cal(18)"
   ]
  },
  {
   "cell_type": "code",
   "execution_count": null,
   "id": "fc422376",
   "metadata": {},
   "outputs": [],
   "source": []
  },
  {
   "cell_type": "markdown",
   "id": "a1e782f7",
   "metadata": {},
   "source": [
    "#### Q7. Print anagrams together in Python using List and Dictionary"
   ]
  },
  {
   "cell_type": "code",
   "execution_count": 9,
   "id": "91547bdc",
   "metadata": {},
   "outputs": [
    {
     "name": "stdout",
     "output_type": "stream",
     "text": [
      "e i l n s t  : ['listen', 'silent']\n",
      "e h l l o  : ['hello']\n",
      "d l o r w  : ['world']\n",
      "a c t  : ['act', 'cat']\n",
      "d g o  : ['god', 'dog']\n"
     ]
    }
   ],
   "source": [
    "list1=[\"listen\", \"silent\", \"hello\", \"world\", \"act\", \"cat\", \"god\", \"dog\"]\n",
    "dict1={}\n",
    "for i in list1:\n",
    "    anagrams = ' '.join(sorted(i))\n",
    "    if anagrams in dict1:\n",
    "        dict1[anagrams].append(i)\n",
    "    else:\n",
    "        dict1[anagrams]=[i]\n",
    "for key , value in dict1.items():\n",
    "    print(f\"{key}  : {value}\")"
   ]
  },
  {
   "cell_type": "code",
   "execution_count": null,
   "id": "823c04b5",
   "metadata": {},
   "outputs": [],
   "source": []
  },
  {
   "cell_type": "markdown",
   "id": "e153ad3b",
   "metadata": {},
   "source": [
    "#### Q8.Check if binary representations of two numbers are an anagram"
   ]
  },
  {
   "cell_type": "code",
   "execution_count": 34,
   "id": "7efa9ac5",
   "metadata": {},
   "outputs": [],
   "source": [
    "def num_anagram(num1,num2):\n",
    "    a=bin(num1)[2:]\n",
    "    b=bin(num2)[2:]\n",
    "    return sorted(a)==sorted(b)  "
   ]
  },
  {
   "cell_type": "code",
   "execution_count": 37,
   "id": "35ecf252",
   "metadata": {},
   "outputs": [
    {
     "data": {
      "text/plain": [
       "True"
      ]
     },
     "execution_count": 37,
     "metadata": {},
     "output_type": "execute_result"
    }
   ],
   "source": [
    "num_anagram(27,27)"
   ]
  },
  {
   "cell_type": "code",
   "execution_count": null,
   "id": "e3869dda",
   "metadata": {},
   "outputs": [],
   "source": []
  },
  {
   "cell_type": "markdown",
   "id": "1e0c3163",
   "metadata": {},
   "source": [
    "#### Q9. Python Counter to find the size of the largest subset of anagram words"
   ]
  },
  {
   "cell_type": "code",
   "execution_count": 1,
   "id": "1aaf3b8c",
   "metadata": {},
   "outputs": [
    {
     "name": "stdout",
     "output_type": "stream",
     "text": [
      "Mirror characters found in the string: H, O, W, O\n"
     ]
    }
   ],
   "source": [
    "def find_mirror_characters(input_string):\n",
    "    # Define a dictionary of mirror characters\n",
    "    mirror_chars = {'A', 'H', 'I', 'M', 'O', 'T', 'U', 'V', 'W', 'X', 'Y'}\n",
    "\n",
    "    # Convert the input string to uppercase to make it case-insensitive\n",
    "    input_string = input_string.upper()\n",
    "\n",
    "    # Initialize a list to store mirror characters found in the string\n",
    "    mirror_chars_found = []\n",
    "\n",
    "    # Iterate through the characters in the input string\n",
    "    for char in input_string:\n",
    "        # Check if the character is a mirror character\n",
    "        if char in mirror_chars:\n",
    "            mirror_chars_found.append(char)\n",
    "\n",
    "    return mirror_chars_found\n",
    "\n",
    "# Example usage\n",
    "input_str = \"Hello WORLD\"\n",
    "mirror_chars_found = find_mirror_characters(input_str)\n",
    "\n",
    "if mirror_chars_found:\n",
    "    print(f\"Mirror characters found in the string: {', '.join(mirror_chars_found)}\")\n",
    "else:\n",
    "    print(\"No mirror characters found in the string.\")\n"
   ]
  },
  {
   "cell_type": "code",
   "execution_count": 2,
   "id": "7947ad56",
   "metadata": {},
   "outputs": [],
   "source": [
    "def find_Minor_char(input_str):\n",
    "    minor_char={'A','H','I','M','O','T','U','V','W','X','Y'}\n",
    "    input_str = input_str.upper()\n",
    "    new_min_char =[]\n",
    "    for i in input_str:\n",
    "        if i in minor_char:\n",
    "            new_min_char.append(i)\n",
    "    return new_min_char"
   ]
  },
  {
   "cell_type": "code",
   "execution_count": 3,
   "id": "766eb7bc",
   "metadata": {},
   "outputs": [
    {
     "data": {
      "text/plain": [
       "['H', 'O', 'W', 'W', 'O']"
      ]
     },
     "execution_count": 3,
     "metadata": {},
     "output_type": "execute_result"
    }
   ],
   "source": [
    "find_Minor_char('Hellow World')"
   ]
  },
  {
   "cell_type": "code",
   "execution_count": 4,
   "id": "192038d5",
   "metadata": {},
   "outputs": [
    {
     "data": {
      "text/plain": [
       "['O', 'M', 'A', 'Y', 'H', 'I', 'V', 'O', 'M', 'A', 'A']"
      ]
     },
     "execution_count": 4,
     "metadata": {},
     "output_type": "execute_result"
    }
   ],
   "source": [
    "find_Minor_char('Om Jay Shiv Omkara')"
   ]
  },
  {
   "cell_type": "code",
   "execution_count": null,
   "id": "15bde45f",
   "metadata": {},
   "outputs": [],
   "source": []
  },
  {
   "cell_type": "markdown",
   "id": "155c76a6",
   "metadata": {},
   "source": [
    "#### Q10. Counting the frequencies in a list using a dictionary in Python"
   ]
  },
  {
   "cell_type": "code",
   "execution_count": 22,
   "id": "282a5382",
   "metadata": {},
   "outputs": [
    {
     "name": "stdout",
     "output_type": "stream",
     "text": [
      "1: 1\n",
      "22: 1\n",
      "2: 1\n",
      "33: 1\n",
      "3: 2\n",
      "4: 4\n"
     ]
    }
   ],
   "source": [
    "def count_frequencies(input_list):\n",
    "    \n",
    "    frequency_dict = {}\n",
    "\n",
    "    \n",
    "    for item in input_list:\n",
    "        if item in frequency_dict:\n",
    "            frequency_dict[item] += 1\n",
    "        else:\n",
    "             frequency_dict[item] = 1\n",
    "    return frequency_dict\n",
    "\n",
    "# Example usage\n",
    "input_list = [1, 22, 2, 33, 3, 3, 4, 4, 4, 4]\n",
    "result = count_frequencies(input_list)\n",
    "\n",
    "# Print the frequencies\n",
    "for item, count in result.items():\n",
    "    print(f\"{item}: {count}\")\n"
   ]
  },
  {
   "cell_type": "code",
   "execution_count": null,
   "id": "4ccb91dd",
   "metadata": {},
   "outputs": [],
   "source": []
  },
  {
   "cell_type": "markdown",
   "id": "6314f902",
   "metadata": {},
   "source": [
    "#### Q11. Python program to convert a list of Tuples into Dictionary"
   ]
  },
  {
   "cell_type": "code",
   "execution_count": 27,
   "id": "1b7b3603",
   "metadata": {},
   "outputs": [],
   "source": [
    "def lst_tup_dict(tup):\n",
    "    return {key:value for key , value in tup}\n"
   ]
  },
  {
   "cell_type": "code",
   "execution_count": 28,
   "id": "d51fbdaa",
   "metadata": {},
   "outputs": [
    {
     "data": {
      "text/plain": [
       "{'a': 1, 'b': 22, 'c': 11, 'f': 56}"
      ]
     },
     "execution_count": 28,
     "metadata": {},
     "output_type": "execute_result"
    }
   ],
   "source": [
    "tup1=[('a',1),('b',22),('c',11),('f',56)]\n",
    "lst_tup_dict(tup1)"
   ]
  },
  {
   "cell_type": "code",
   "execution_count": 30,
   "id": "4499e723",
   "metadata": {},
   "outputs": [
    {
     "data": {
      "text/plain": [
       "{'a': 1, 'b': 22, 'c': 11, 'f': 56}"
      ]
     },
     "execution_count": 30,
     "metadata": {},
     "output_type": "execute_result"
    }
   ],
   "source": [
    "tup1=[('a',1),('b',22),('c',11),('f',56)]\n",
    "dict2 = {key:value for key ,value in tup1}\n",
    "dict2"
   ]
  },
  {
   "cell_type": "code",
   "execution_count": null,
   "id": "6dca2cf4",
   "metadata": {},
   "outputs": [],
   "source": []
  },
  {
   "cell_type": "markdown",
   "id": "8bda7ba1",
   "metadata": {},
   "source": [
    "#### Q12. Scraping And Finding Ordered Words In A Dictionary using Python"
   ]
  },
  {
   "cell_type": "code",
   "execution_count": null,
   "id": "b427bd0a",
   "metadata": {},
   "outputs": [],
   "source": [
    "# jama nahi"
   ]
  },
  {
   "cell_type": "code",
   "execution_count": null,
   "id": "42e6c7e3",
   "metadata": {},
   "outputs": [],
   "source": []
  },
  {
   "cell_type": "markdown",
   "id": "929e652f",
   "metadata": {},
   "source": [
    "#### Q13. Create a list of tuples from the given list having a number and its cube in each tuple"
   ]
  },
  {
   "cell_type": "code",
   "execution_count": 33,
   "id": "c585f238",
   "metadata": {},
   "outputs": [],
   "source": [
    "list1 = [2,3,4,5,6,7,8]\n",
    "lst_tup = [(i , i**3) for i in list1]"
   ]
  },
  {
   "cell_type": "code",
   "execution_count": 34,
   "id": "a0dfa332",
   "metadata": {},
   "outputs": [
    {
     "data": {
      "text/plain": [
       "[(2, 8), (3, 27), (4, 64), (5, 125), (6, 216), (7, 343), (8, 512)]"
      ]
     },
     "execution_count": 34,
     "metadata": {},
     "output_type": "execute_result"
    }
   ],
   "source": [
    "lst_tup"
   ]
  },
  {
   "cell_type": "code",
   "execution_count": null,
   "id": "5d2eeb64",
   "metadata": {},
   "outputs": [],
   "source": []
  },
  {
   "cell_type": "markdown",
   "id": "55f766f6",
   "metadata": {},
   "source": [
    "#### Q14. Sort a list of tuples by the second Item"
   ]
  },
  {
   "cell_type": "code",
   "execution_count": 39,
   "id": "c9809bb3",
   "metadata": {},
   "outputs": [],
   "source": [
    "list1 = [(1,3),(2,4),(11,44),(5,33),(6,1)]\n",
    "lst_tup = sorted(list1, key= lambda x :x[1])"
   ]
  },
  {
   "cell_type": "code",
   "execution_count": 40,
   "id": "6ee70eeb",
   "metadata": {},
   "outputs": [
    {
     "data": {
      "text/plain": [
       "[(6, 1), (1, 3), (2, 4), (5, 33), (11, 44)]"
      ]
     },
     "execution_count": 40,
     "metadata": {},
     "output_type": "execute_result"
    }
   ],
   "source": [
    "lst_tup"
   ]
  },
  {
   "cell_type": "code",
   "execution_count": null,
   "id": "c8599d9c",
   "metadata": {},
   "outputs": [],
   "source": []
  },
  {
   "cell_type": "markdown",
   "id": "4d5cb0f1",
   "metadata": {},
   "source": [
    "#### Q15. Python Program for Insertion Sort"
   ]
  },
  {
   "cell_type": "code",
   "execution_count": 20,
   "id": "7032a76f",
   "metadata": {},
   "outputs": [
    {
     "name": "stdout",
     "output_type": "stream",
     "text": [
      "[1, 2, 5, 6, 7, 9]\n"
     ]
    }
   ],
   "source": [
    "a=[1,5,2,7,9,6]\n",
    "for i in range(0,len(a)):\n",
    "    k = i\n",
    "    while k>0 and a[k]<a[k-1]:\n",
    "        c=a[k]\n",
    "        a[k]=a[k-1]\n",
    "        a[k-1]=c\n",
    "        k=k-1\n",
    "print(a)\n",
    "        "
   ]
  },
  {
   "cell_type": "code",
   "execution_count": 6,
   "id": "39aba197",
   "metadata": {},
   "outputs": [
    {
     "name": "stdout",
     "output_type": "stream",
     "text": [
      "[1, 2, 3, 4, 5, 11, 12, 34, 34, 232, 542, 6642]\n"
     ]
    }
   ],
   "source": [
    "x=[12,34,34,232,542,11,6642,1,2,3,4,5]\n",
    "for i in range(1,len(x)):\n",
    "    c=i\n",
    "    while c>0 and x[c]<x[c-1]:\n",
    "        a=x[c]\n",
    "        x[c]=x[c-1]\n",
    "        x[c-1]=a\n",
    "        c=c-1\n",
    "print(x)"
   ]
  },
  {
   "cell_type": "code",
   "execution_count": null,
   "id": "49501a0e",
   "metadata": {},
   "outputs": [],
   "source": []
  },
  {
   "cell_type": "code",
   "execution_count": 7,
   "id": "235edf6e",
   "metadata": {},
   "outputs": [
    {
     "name": "stdout",
     "output_type": "stream",
     "text": [
      "[12, 22, 33, 55, 324, 6545]\n"
     ]
    }
   ],
   "source": [
    "a=[12,33,22,55,324,6545]\n",
    "for i in range(1,len(a)):\n",
    "    b= i \n",
    "    while b>0 and a[b]<a[b-1]:\n",
    "        c=a[b]\n",
    "        a[b]=a[b-1]\n",
    "        a[b-1]=c\n",
    "        b=b-1\n",
    "print(a)"
   ]
  },
  {
   "cell_type": "code",
   "execution_count": null,
   "id": "358c5a8d",
   "metadata": {},
   "outputs": [],
   "source": []
  },
  {
   "cell_type": "code",
   "execution_count": 8,
   "id": "4c9a8ffe",
   "metadata": {},
   "outputs": [],
   "source": [
    "def inserseion_sort(a):\n",
    "    for i in range(1,len(a)):\n",
    "        b=i\n",
    "        while b>0 and a[b]<a[b-1]:\n",
    "            c=a[b]\n",
    "            a[b]=a[b-1]\n",
    "            a[b-1]=c\n",
    "            b=b-1\n",
    "    return a\n"
   ]
  },
  {
   "cell_type": "code",
   "execution_count": 9,
   "id": "ca8c9009",
   "metadata": {},
   "outputs": [
    {
     "name": "stdout",
     "output_type": "stream",
     "text": [
      " Insersion Sort :  [1, 2, 2, 3, 3, 4, 4, 5, 5, 12, 32, 34, 65, 67, 3223134, 3235434]\n"
     ]
    }
   ],
   "source": [
    "list1=[12,32,3235434,3223134,1,2,3,4,5,65,67,5,34,2,3,4]\n",
    "print(f\" Insersion Sort : \",inserseion_sort(list1))"
   ]
  },
  {
   "cell_type": "code",
   "execution_count": null,
   "id": "5ebab4eb",
   "metadata": {},
   "outputs": [],
   "source": []
  },
  {
   "cell_type": "markdown",
   "id": "11925074",
   "metadata": {},
   "source": [
    "#### Q16. Python Program for SelectionSort"
   ]
  },
  {
   "cell_type": "code",
   "execution_count": 24,
   "id": "c594e703",
   "metadata": {},
   "outputs": [
    {
     "name": "stdout",
     "output_type": "stream",
     "text": [
      "[1, 3, 3, 3, 3, 3, 3, 3, 4, 4, 4, 4, 4, 5, 6, 34, 34, 574, 676]\n"
     ]
    }
   ],
   "source": [
    "a=[4,3,5,4,3,3,3,1,3,3,3,4,4,34,34,4,6,676,574]\n",
    "for i in range(len(a)-1):\n",
    "    for j in range(i+1,len(a)):\n",
    "        if a[i]>a[j]:\n",
    "            b=a[i]\n",
    "            a[i]=a[j]\n",
    "            a[j]=b\n",
    "print(a)"
   ]
  },
  {
   "cell_type": "code",
   "execution_count": null,
   "id": "d8002594",
   "metadata": {},
   "outputs": [],
   "source": []
  },
  {
   "cell_type": "markdown",
   "id": "eb1543d0",
   "metadata": {},
   "source": [
    "#### Q17. Bubble Sort "
   ]
  },
  {
   "cell_type": "code",
   "execution_count": 27,
   "id": "c8719857",
   "metadata": {},
   "outputs": [
    {
     "name": "stdout",
     "output_type": "stream",
     "text": [
      "[0, 4, 11, 22, 33, 34, 65, 223, 676]\n"
     ]
    }
   ],
   "source": [
    "a=[11,22,33,223,65,4,0,676,34]\n",
    "for i in range(0,len(a)):\n",
    "    for j in range(0,len(a)-1):\n",
    "        if a[j]>a[j+1]:\n",
    "            c=a[j]\n",
    "            a[j]=a[j+1]\n",
    "            a[j+1]=c\n",
    "print(a)"
   ]
  },
  {
   "cell_type": "code",
   "execution_count": null,
   "id": "54ad2f0e",
   "metadata": {},
   "outputs": [],
   "source": []
  },
  {
   "cell_type": "markdown",
   "id": "b4062b1e",
   "metadata": {},
   "source": [
    "#### Q18. Merge Sort "
   ]
  },
  {
   "cell_type": "code",
   "execution_count": 1,
   "id": "f5799aa5",
   "metadata": {},
   "outputs": [
    {
     "name": "stdout",
     "output_type": "stream",
     "text": [
      "[3, 9, 10, 27, 38, 43, 82]\n"
     ]
    }
   ],
   "source": [
    "def merge_sort(arr):\n",
    "    if len(arr) <= 1:\n",
    "        return arr\n",
    "\n",
    "    # Divide the array into two halves\n",
    "    mid = len(arr) // 2\n",
    "    left_half = arr[:mid]\n",
    "    right_half = arr[mid:]\n",
    "\n",
    "    # Recursively sort both halves\n",
    "    left_half = merge_sort(left_half)\n",
    "    right_half = merge_sort(right_half)\n",
    "\n",
    "    # Merge the sorted halves\n",
    "    return merge(left_half, right_half)\n",
    "\n",
    "def merge(left, right):\n",
    "    merged = []\n",
    "    left_idx, right_idx = 0, 0\n",
    "\n",
    "    while left_idx < len(left) and right_idx < len(right):\n",
    "        if left[left_idx] < right[right_idx]:\n",
    "            merged.append(left[left_idx])\n",
    "            left_idx += 1\n",
    "        else:\n",
    "            merged.append(right[right_idx])\n",
    "            right_idx += 1\n",
    "\n",
    "    # Add remaining elements, if any\n",
    "    merged.extend(left[left_idx:])\n",
    "    merged.extend(right[right_idx:])\n",
    "    \n",
    "    return merged\n",
    "\n",
    "# Example usage:\n",
    "unsorted_list = [38, 27, 43, 3, 9, 82, 10]\n",
    "sorted_list = merge_sort(unsorted_list)\n",
    "print(sorted_list)\n"
   ]
  },
  {
   "cell_type": "code",
   "execution_count": null,
   "id": "aac20c80",
   "metadata": {},
   "outputs": [],
   "source": []
  },
  {
   "cell_type": "code",
   "execution_count": 4,
   "id": "953f7d4d",
   "metadata": {},
   "outputs": [
    {
     "data": {
      "text/plain": [
       "[3, 4, 11, 23, 43, 456, 5343]"
      ]
     },
     "execution_count": 4,
     "metadata": {},
     "output_type": "execute_result"
    }
   ],
   "source": [
    "arr1 = [3,4,5343,23,43,11,456]\n",
    "merge_sort(arr1)"
   ]
  },
  {
   "cell_type": "code",
   "execution_count": 5,
   "id": "aa653398",
   "metadata": {},
   "outputs": [
    {
     "data": {
      "text/plain": [
       "[33, 45, 534, 3423]"
      ]
     },
     "execution_count": 5,
     "metadata": {},
     "output_type": "execute_result"
    }
   ],
   "source": [
    "arr2 = [33,45,534,3423]\n",
    "merge_sort(arr2)"
   ]
  },
  {
   "cell_type": "code",
   "execution_count": null,
   "id": "303ee387",
   "metadata": {},
   "outputs": [],
   "source": []
  },
  {
   "cell_type": "markdown",
   "id": "8d367246",
   "metadata": {},
   "source": [
    "#### Q19. Quick Sort "
   ]
  },
  {
   "cell_type": "code",
   "execution_count": 3,
   "id": "91590bce",
   "metadata": {},
   "outputs": [],
   "source": [
    "def quick_sort(arr):\n",
    "    if len(arr) <=1 :\n",
    "        return arr\n",
    "    \n",
    "    pivot = arr[len(arr)//2]\n",
    "    left = [i for i in arr if i< pivot ]\n",
    "    middle = [i for i in arr if i == pivot ]\n",
    "    right = [ i for i in arr if i > pivot ]\n",
    "    \n",
    "    return quick_sort(left)+middle+quick_sort(right)\n"
   ]
  },
  {
   "cell_type": "code",
   "execution_count": 4,
   "id": "09bbe73a",
   "metadata": {},
   "outputs": [
    {
     "name": "stdout",
     "output_type": "stream",
     "text": [
      "[1, 2, 3, 5, 9, 42, 43, 46, 53, 55, 77]\n"
     ]
    }
   ],
   "source": [
    "lst1=[2,43,46,5,3,55,77,42,1,9,53]\n",
    "sort = quick_sort(lst1)\n",
    "print(sort)"
   ]
  },
  {
   "cell_type": "code",
   "execution_count": null,
   "id": "7acc63fb",
   "metadata": {},
   "outputs": [],
   "source": []
  }
 ],
 "metadata": {
  "kernelspec": {
   "display_name": "Python 3 (ipykernel)",
   "language": "python",
   "name": "python3"
  },
  "language_info": {
   "codemirror_mode": {
    "name": "ipython",
    "version": 3
   },
   "file_extension": ".py",
   "mimetype": "text/x-python",
   "name": "python",
   "nbconvert_exporter": "python",
   "pygments_lexer": "ipython3",
   "version": "3.9.13"
  }
 },
 "nbformat": 4,
 "nbformat_minor": 5
}
