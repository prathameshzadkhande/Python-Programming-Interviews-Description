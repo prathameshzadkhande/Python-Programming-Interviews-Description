{
 "cells": [
  {
   "cell_type": "markdown",
   "id": "8d58a4e9",
   "metadata": {},
   "source": [
    "#### Q1. Python program to find largest prime factor of number\n"
   ]
  },
  {
   "cell_type": "code",
   "execution_count": 8,
   "id": "7f37b024",
   "metadata": {},
   "outputs": [],
   "source": [
    "\n",
    "def large_prime_factorial():\n",
    "    a=int(input(\"Enter the value : \"))\n",
    "    b=2\n",
    "    c=[]\n",
    "    while a!=1:\n",
    "        if a%b==0:\n",
    "            a=a/b\n",
    "            c.append(b)\n",
    "        else:\n",
    "            b+=1\n",
    "    return max(c)\n"
   ]
  },
  {
   "cell_type": "code",
   "execution_count": 9,
   "id": "64dacd61",
   "metadata": {},
   "outputs": [
    {
     "name": "stdout",
     "output_type": "stream",
     "text": [
      "Enter the value : 98\n"
     ]
    },
    {
     "data": {
      "text/plain": [
       "7"
      ]
     },
     "execution_count": 9,
     "metadata": {},
     "output_type": "execute_result"
    }
   ],
   "source": [
    "large_prime_factorial()"
   ]
  },
  {
   "cell_type": "markdown",
   "id": "fc99d6fd",
   "metadata": {},
   "source": [
    "#### Q2. Python Program for Product of unique prime factors of a number"
   ]
  },
  {
   "cell_type": "code",
   "execution_count": null,
   "id": "6b6916a5",
   "metadata": {},
   "outputs": [],
   "source": [
    "# not solve "
   ]
  },
  {
   "cell_type": "code",
   "execution_count": null,
   "id": "333a14c1",
   "metadata": {},
   "outputs": [],
   "source": []
  },
  {
   "cell_type": "markdown",
   "id": "d7941908",
   "metadata": {},
   "source": [
    "#### Q3. Python Program  to find Factorial of a number "
   ]
  },
  {
   "cell_type": "code",
   "execution_count": 18,
   "id": "423f3a24",
   "metadata": {},
   "outputs": [],
   "source": [
    "def factorial(a):\n",
    "    b=1\n",
    "    for i in range(1,a+1):\n",
    "        b*=i\n",
    "    return (f\"The factorial of {a} is : {b}\")"
   ]
  },
  {
   "cell_type": "code",
   "execution_count": 19,
   "id": "7ae55ef4",
   "metadata": {},
   "outputs": [
    {
     "data": {
      "text/plain": [
       "'The factorial of 6 is : 720'"
      ]
     },
     "execution_count": 19,
     "metadata": {},
     "output_type": "execute_result"
    }
   ],
   "source": [
    "factorial(6)"
   ]
  },
  {
   "cell_type": "markdown",
   "id": "1f76d7dd",
   "metadata": {},
   "source": [
    "#### Q4. Python Program for Find sum of odd factors of a number"
   ]
  },
  {
   "cell_type": "code",
   "execution_count": 25,
   "id": "9a0c1b01",
   "metadata": {},
   "outputs": [],
   "source": [
    "def sum_odd_factors(a):\n",
    "    odd = 0\n",
    "    for i in range(1,a+1):\n",
    "        if a%i==0 and i%2!=0:\n",
    "            odd+=i\n",
    "    return odd"
   ]
  },
  {
   "cell_type": "code",
   "execution_count": 32,
   "id": "00ff5d53",
   "metadata": {},
   "outputs": [
    {
     "data": {
      "text/plain": [
       "78"
      ]
     },
     "execution_count": 32,
     "metadata": {},
     "output_type": "execute_result"
    }
   ],
   "source": [
    "sum_odd_factors(45)"
   ]
  },
  {
   "cell_type": "markdown",
   "id": "813e4a9c",
   "metadata": {},
   "source": [
    "#### Q5. Python Program to Check if binary representation is a palindrome"
   ]
  },
  {
   "cell_type": "code",
   "execution_count": 39,
   "id": "c3c2df25",
   "metadata": {},
   "outputs": [],
   "source": [
    "def palidrome(a):\n",
    "    b=bin(a)\n",
    "    c=b[2::]\n",
    "    c1=c[::-1]\n",
    "    print(\"See the Given Number by the user : \",b)\n",
    "    print(\"here we exclude 0b is a default value :\",c)\n",
    "    print(\"Reverse Value of C\",c1)\n",
    "    if c==c1:\n",
    "        print(\"Number is Palidrome \")\n",
    "    else:\n",
    "        print(\"Number is Not Palidrome \")"
   ]
  },
  {
   "cell_type": "code",
   "execution_count": 43,
   "id": "da3cd3f7",
   "metadata": {},
   "outputs": [
    {
     "name": "stdout",
     "output_type": "stream",
     "text": [
      "See the Given Number by the user :  0b1101101\n",
      "here we exclude 0b is a default value : 1101101\n",
      "Reverse Value of C 1011011\n",
      "Number is Not Palidrome \n"
     ]
    }
   ],
   "source": [
    "palidrome(109)"
   ]
  },
  {
   "cell_type": "code",
   "execution_count": null,
   "id": "90008d80",
   "metadata": {},
   "outputs": [],
   "source": []
  },
  {
   "cell_type": "markdown",
   "id": "364a18f0",
   "metadata": {},
   "source": [
    "#### Q6. Python Program for Number of elements with odd factors in a given range"
   ]
  },
  {
   "cell_type": "code",
   "execution_count": 45,
   "id": "534e2096",
   "metadata": {},
   "outputs": [
    {
     "name": "stdout",
     "output_type": "stream",
     "text": [
      "1\n",
      "2\n",
      "6\n",
      "24\n",
      "120\n"
     ]
    }
   ],
   "source": [
    "# simple Factorial\n",
    "a=5\n",
    "b=1\n",
    "for i in range(1,a+1):\n",
    "    b*=i\n",
    "    print(b)"
   ]
  },
  {
   "cell_type": "code",
   "execution_count": 49,
   "id": "f542928a",
   "metadata": {},
   "outputs": [],
   "source": [
    "def count_odd_factors_in_range(start, end):\n",
    "    count = 0\n",
    "    for num in range(start, end + 1):\n",
    "        odd_factors_count = 0\n",
    "        for i in range(1, num + 1):\n",
    "            if num % i == 0 and i % 2 != 0:\n",
    "                odd_factors_count += 1\n",
    "        if odd_factors_count % 2 != 0:\n",
    "            count += 1\n",
    "    return count"
   ]
  },
  {
   "cell_type": "code",
   "execution_count": 50,
   "id": "26918a3e",
   "metadata": {},
   "outputs": [
    {
     "data": {
      "text/plain": [
       "12"
      ]
     },
     "execution_count": 50,
     "metadata": {},
     "output_type": "execute_result"
    }
   ],
   "source": [
    "count_odd_factors_in_range(2,67)"
   ]
  },
  {
   "cell_type": "code",
   "execution_count": null,
   "id": "b4d6a320",
   "metadata": {},
   "outputs": [],
   "source": []
  },
  {
   "cell_type": "markdown",
   "id": "f8d37843",
   "metadata": {},
   "source": [
    "#### Q7. Python Program for Common Divisors of Two Numbers"
   ]
  },
  {
   "cell_type": "code",
   "execution_count": 1,
   "id": "3490f2c8",
   "metadata": {},
   "outputs": [],
   "source": [
    "def common_div(a,b):\n",
    "    c=[]\n",
    "    d=min(a,b)\n",
    "    for i in range(1,d+1):\n",
    "        if a%i==0 and b%i==0:\n",
    "            c.append(i)\n",
    "    return c\n",
    "        "
   ]
  },
  {
   "cell_type": "code",
   "execution_count": 2,
   "id": "6b680bc8",
   "metadata": {},
   "outputs": [
    {
     "data": {
      "text/plain": [
       "[1, 2, 4]"
      ]
     },
     "execution_count": 2,
     "metadata": {},
     "output_type": "execute_result"
    }
   ],
   "source": [
    "common_div(28,32)"
   ]
  },
  {
   "cell_type": "code",
   "execution_count": null,
   "id": "6b652954",
   "metadata": {},
   "outputs": [],
   "source": []
  },
  {
   "cell_type": "markdown",
   "id": "64fce14a",
   "metadata": {},
   "source": [
    "#### Q8. Python Program to Check if a count of divisors is even or odd"
   ]
  },
  {
   "cell_type": "code",
   "execution_count": 15,
   "id": "ff581018",
   "metadata": {},
   "outputs": [],
   "source": [
    "# method 1\n",
    "def div_count1(a):\n",
    "    l1=[a%2==0]\n",
    "    l2=[a%2!=0]\n",
    "    return l1,l2"
   ]
  },
  {
   "cell_type": "code",
   "execution_count": 16,
   "id": "5a6cb096",
   "metadata": {},
   "outputs": [
    {
     "name": "stdout",
     "output_type": "stream",
     "text": [
      "Number 55 is odd\n"
     ]
    }
   ],
   "source": [
    "div_count(55)"
   ]
  },
  {
   "cell_type": "code",
   "execution_count": 17,
   "id": "22c59f77",
   "metadata": {},
   "outputs": [],
   "source": [
    "# method 2\n",
    "def div_count(a):\n",
    "    if a%2==0:\n",
    "        print(f\"Number {a} is Even \")\n",
    "    else:\n",
    "        print(f\"Number {a} is odd\")"
   ]
  },
  {
   "cell_type": "code",
   "execution_count": 18,
   "id": "4809c923",
   "metadata": {},
   "outputs": [
    {
     "name": "stdout",
     "output_type": "stream",
     "text": [
      "Number 22 is Even \n"
     ]
    }
   ],
   "source": [
    "div_count(22)"
   ]
  },
  {
   "cell_type": "markdown",
   "id": "103ab9cf",
   "metadata": {},
   "source": [
    "#### Q9. Python Program to Find the minimum sum of factors of a number"
   ]
  },
  {
   "cell_type": "code",
   "execution_count": 25,
   "id": "15550eb5",
   "metadata": {},
   "outputs": [],
   "source": [
    "def min_sum_factor(a):\n",
    "    b=0\n",
    "    c=2 # Minimum Starting factorial num\n",
    "    while a>1:\n",
    "        if a%c==0:\n",
    "            b+=c\n",
    "            a//=c\n",
    "        else:\n",
    "            c+=1\n",
    "    return b\n",
    "    "
   ]
  },
  {
   "cell_type": "code",
   "execution_count": 26,
   "id": "305133da",
   "metadata": {},
   "outputs": [
    {
     "data": {
      "text/plain": [
       "13"
      ]
     },
     "execution_count": 26,
     "metadata": {},
     "output_type": "execute_result"
    }
   ],
   "source": [
    "min_sum_factor(22)"
   ]
  },
  {
   "cell_type": "code",
   "execution_count": 27,
   "id": "1601054a",
   "metadata": {},
   "outputs": [
    {
     "name": "stdout",
     "output_type": "stream",
     "text": [
      "Enter a positive integer: 22\n",
      "The minimum sum of factors of 22 is 13\n"
     ]
    }
   ],
   "source": [
    "def min_sum_of_factors(n):\n",
    "    min_sum = 0\n",
    "    factor = 2  # Start with the smallest prime factor\n",
    "\n",
    "    while n > 1:\n",
    "        if n % factor == 0:\n",
    "            min_sum += factor\n",
    "            n //= factor\n",
    "        else:\n",
    "            factor += 1  # Move to the next potential prime factor\n",
    "\n",
    "    return min_sum\n",
    "\n",
    "# Input number\n",
    "num = int(input(\"Enter a positive integer: \"))\n",
    "\n",
    "if num <= 0:\n",
    "    print(\"Please enter a positive integer.\")\n",
    "else:\n",
    "    result = min_sum_of_factors(num)\n",
    "    print(f\"The minimum sum of factors of {num} is {result}\")\n"
   ]
  },
  {
   "cell_type": "code",
   "execution_count": null,
   "id": "fa33d968",
   "metadata": {},
   "outputs": [],
   "source": []
  },
  {
   "cell_type": "markdown",
   "id": "66c37f43",
   "metadata": {},
   "source": [
    "#### Q10. Python Program to find Difference between sums of odd and even digits"
   ]
  },
  {
   "cell_type": "code",
   "execution_count": 1,
   "id": "192568c9",
   "metadata": {},
   "outputs": [
    {
     "name": "stdout",
     "output_type": "stream",
     "text": [
      "Enter an integer: 77\n",
      "The difference between the sums of odd and even digits in 77 is 14\n"
     ]
    }
   ],
   "source": [
    "def difference_of_odd_and_even_digits(number):\n",
    "    # Ensure the number is positive\n",
    "    number = abs(number)\n",
    "    \n",
    "    # Initialize the sums\n",
    "    odd_sum = 0\n",
    "    even_sum = 0\n",
    "    \n",
    "    while number > 0:\n",
    "        digit = number % 10\n",
    "        if digit % 2 == 0:\n",
    "            even_sum += digit\n",
    "        else:\n",
    "            odd_sum += digit\n",
    "        number //= 10\n",
    "    \n",
    "    return odd_sum - even_sum\n",
    "\n",
    "# Input number\n",
    "num = int(input(\"Enter an integer: \"))\n",
    "\n",
    "result = difference_of_odd_and_even_digits(num)\n",
    "print(f\"The difference between the sums of odd and even digits in {num} is {result}\")\n"
   ]
  },
  {
   "cell_type": "code",
   "execution_count": 4,
   "id": "4d116fe1",
   "metadata": {},
   "outputs": [],
   "source": [
    "def diff_sum_odd_even_digit(num):\n",
    "    odd=0\n",
    "    even=0\n",
    "    \n",
    "    while num > 0:\n",
    "        digit = num%10\n",
    "        if digit%2==0:\n",
    "            even+=digit\n",
    "        else:\n",
    "            odd+=digit\n",
    "        num //=10\n",
    "    return odd - even"
   ]
  },
  {
   "cell_type": "code",
   "execution_count": 6,
   "id": "9bd91ffd",
   "metadata": {},
   "outputs": [
    {
     "name": "stdout",
     "output_type": "stream",
     "text": [
      "Enter the Number :77\n",
      "Difference between sums of odd and even digits in 77 = 14\n"
     ]
    }
   ],
   "source": [
    "a=int(input(\"Enter the Number :\"))\n",
    "result = diff_sum_odd_even_digit(a)\n",
    "print(f\"Difference between sums of odd and even digits in {a} = {result}\")"
   ]
  },
  {
   "cell_type": "code",
   "execution_count": null,
   "id": "ffa1e00c",
   "metadata": {},
   "outputs": [],
   "source": []
  },
  {
   "cell_type": "markdown",
   "id": "a273f543",
   "metadata": {},
   "source": [
    "#### Q11. Python Program for Largest and Smallest K digit number divisible by X"
   ]
  },
  {
   "cell_type": "code",
   "execution_count": 8,
   "id": "5e9d758d",
   "metadata": {},
   "outputs": [
    {
     "name": "stdout",
     "output_type": "stream",
     "text": [
      "Enter the value of K (number of digits): 6\n",
      "Enter the value of X (divisor): 2\n",
      "The smallest 6-digit number divisible by 2 is 100000\n",
      "The largest 6-digit number divisible by 2 is 999998\n"
     ]
    }
   ],
   "source": [
    "def largest_smallest_k_digit_numbers_divisible_by_x(k, x):\n",
    "    if k <= 0 or x <= 0:\n",
    "        return \"Invalid input. Both K and X should be positive integers.\"\n",
    "\n",
    "    smallest = 10 ** (k - 1)  # Smallest K-digit number\n",
    "    largest = (10 ** k) - 1  # Largest K-digit number\n",
    "\n",
    "    # Find the smallest K-digit number divisible by X\n",
    "    smallest_divisible = smallest + (x - smallest % x) % x\n",
    "\n",
    "    # Find the largest K-digit number divisible by X\n",
    "    largest_divisible = largest - (largest % x)\n",
    "\n",
    "    return smallest_divisible, largest_divisible\n",
    "\n",
    "# Input K and X\n",
    "k = int(input(\"Enter the value of K (number of digits): \"))\n",
    "x = int(input(\"Enter the value of X (divisor): \"))\n",
    "\n",
    "result = largest_smallest_k_digit_numbers_divisible_by_x(k, x)\n",
    "if isinstance(result, tuple):\n",
    "    smallest, largest = result\n",
    "    print(f\"The smallest {k}-digit number divisible by {x} is {smallest}\")\n",
    "    print(f\"The largest {k}-digit number divisible by {x} is {largest}\")\n",
    "else:\n",
    "    print(result)\n"
   ]
  },
  {
   "cell_type": "code",
   "execution_count": null,
   "id": "b5acb345",
   "metadata": {},
   "outputs": [],
   "source": []
  },
  {
   "cell_type": "code",
   "execution_count": 10,
   "id": "f63a032c",
   "metadata": {},
   "outputs": [
    {
     "ename": "NameError",
     "evalue": "name 'sqrt' is not defined",
     "output_type": "error",
     "traceback": [
      "\u001b[1;31m---------------------------------------------------------------------------\u001b[0m",
      "\u001b[1;31mNameError\u001b[0m                                 Traceback (most recent call last)",
      "\u001b[1;32m~\\AppData\\Local\\Temp\\ipykernel_19468\\1062058916.py\u001b[0m in \u001b[0;36m<module>\u001b[1;34m\u001b[0m\n\u001b[1;32m----> 1\u001b[1;33m \u001b[0mSurface\u001b[0m \u001b[1;33m=\u001b[0m \u001b[0msqrt\u001b[0m\u001b[1;33m(\u001b[0m\u001b[1;36m3\u001b[0m\u001b[1;33m)\u001b[0m \u001b[1;33m*\u001b[0m \u001b[0ms\u001b[0m\u001b[1;33m^\u001b[0m\u001b[1;36m2\u001b[0m\u001b[1;33m\u001b[0m\u001b[1;33m\u001b[0m\u001b[0m\n\u001b[0m",
      "\u001b[1;31mNameError\u001b[0m: name 'sqrt' is not defined"
     ]
    }
   ],
   "source": [
    "\n"
   ]
  },
  {
   "cell_type": "code",
   "execution_count": null,
   "id": "a47d5c2a",
   "metadata": {},
   "outputs": [],
   "source": []
  }
 ],
 "metadata": {
  "kernelspec": {
   "display_name": "Python 3 (ipykernel)",
   "language": "python",
   "name": "python3"
  },
  "language_info": {
   "codemirror_mode": {
    "name": "ipython",
    "version": 3
   },
   "file_extension": ".py",
   "mimetype": "text/x-python",
   "name": "python",
   "nbconvert_exporter": "python",
   "pygments_lexer": "ipython3",
   "version": "3.9.13"
  }
 },
 "nbformat": 4,
 "nbformat_minor": 5
}
