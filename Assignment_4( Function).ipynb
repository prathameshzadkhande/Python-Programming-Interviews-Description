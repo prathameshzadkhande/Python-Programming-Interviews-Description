{
 "cells": [
  {
   "cell_type": "markdown",
   "id": "a76ef52f",
   "metadata": {},
   "source": [
    "###### Write Python programs using Functions:"
   ]
  },
  {
   "cell_type": "code",
   "execution_count": null,
   "id": "120a35da",
   "metadata": {},
   "outputs": [],
   "source": [
    "1. Python Program for Find largest prime factor of a number\n",
    "2. Python Program for Product of unique prime factors of a number\n",
    "3. Python Program to find Factorial of Number\n",
    "4. Python Program for Find sum of odd factors of a number\n",
    "5. Python Program to Check if binary representation is a palindrome\n",
    "6. Python Program for Number of elements with odd factors in a given range\n",
    "7. Python Program for Common Divisors of Two Numbers\n",
    "8. Python Program to Check if a count of divisors is even or odd\n",
    "9. Python Program to Find the minimum sum of factors of a number\n",
    "10. Python Program to find Difference between sums of odd and even digits\n",
    "11. Python Program for Largest and Smallest K digit number divisible by X\n",
    "12. Python Program to calculate the area of a Tetrahedron\n",
    "13. Python Program to Find the perimeter of a cylinder\n",
    "14. Python Program to Find the vertex, focus, and directrix of a parabola\n",
    "15. Python program to find the most occurring character and its count\n",
    "16. Python Program to Find the sum of even factors of a number\n",
    "17. Python Program to Check if all digits of a number divide it\n",
    "18. Python program to convert float decimal to Octal number\n",
    "19. Python program to copy odd lines of one file to other\n",
    "20. Write a Python program to replace whitespaces with an underscore and vice versa\n",
    "21. Write a Python program to convert a date or yyyy-mm-dd format to dd-mm-yyyy\n",
    "22. Write a Python program to find all words starting with 'a' or 'e' in a given string.\n",
    "23. Write a Python program to abbreviate 'Road' as 'Rd.' in a given string"
   ]
  }
 ],
 "metadata": {
  "kernelspec": {
   "display_name": "Python 3 (ipykernel)",
   "language": "python",
   "name": "python3"
  },
  "language_info": {
   "codemirror_mode": {
    "name": "ipython",
    "version": 3
   },
   "file_extension": ".py",
   "mimetype": "text/x-python",
   "name": "python",
   "nbconvert_exporter": "python",
   "pygments_lexer": "ipython3",
   "version": "3.9.13"
  }
 },
 "nbformat": 4,
 "nbformat_minor": 5
}
