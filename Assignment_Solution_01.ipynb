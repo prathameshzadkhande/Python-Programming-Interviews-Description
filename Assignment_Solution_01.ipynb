{
 "cells": [
  {
   "cell_type": "markdown",
   "id": "9ae85f35",
   "metadata": {},
   "source": [
    "#### Q1. What are the key Features of Python"
   ]
  },
  {
   "cell_type": "markdown",
   "id": "09ada438",
   "metadata": {},
   "source": [
    "Python is a versatile and widely-used programming language known for its simplicity and readability.\n",
    "It has a broad range of applications, including web development, data analysis, artificial intelligence, \n",
    "scientific computing, and more. Here are some key features of Python:\n",
    "1.   Free and Open Source\n",
    "Python language is freely available at the official website and you can download it from the given download link below\n",
    "click on the Download Python keyword. Download Python Since it is open-source, this means that source code is also available\n",
    "to the public.So you can download it, use it as well as share it.\n",
    "2.  Easy to code\n",
    "Python is a high-level programming language. Python is very easy to learn the language as compared to other languages like C, C#, Javascript, Java, etc. It is very easy to code in the Python language and anybody can learn Python basics in a few hours or days. It is also a developer-friendly language. \n",
    "3.  Easy to Read\n",
    "As you will see, learning Python is quite simple. As was already established, Python’s syntax is really straightforward. The code block is defined by the indentations rather than by semicolons or brackets\n",
    "4. Object-Oriented Language\n",
    "One of the key features of Python is Object-Oriented programming. Python supports object-oriented language and concepts of classes, object encapsulation, etc. \n",
    "\n",
    "5. GUI Programming Support\n",
    "Graphical User interfaces can be made using a module such as PyQt5, PyQt4, wxPython, or Tk in Python. PyQt5 is the most popular option for creating graphical apps with Python.\n",
    "\n",
    "6. High-Level Language\n",
    "Python is a high-level language. When we write programs in Python, we do not need to remember the system architecture, nor do we need to manage the memory.\n",
    "\n",
    "7. Large Community Support\n",
    "Python has gained popularity over the years. Our questions are constantly answered by the enormous StackOverflow community. These websites have already provided answers to many questions about Python, so Python users can consult them as needed.\n",
    "\n",
    "8. Easy to Debug\n",
    "Excellent information for mistake tracing. You will be able to quickly identify and correct the majority of your program’s issues once you understand how to interpret Python’s error traces. Simply by glancing at the code, you can determine what it is designed to perform.\n",
    "\n",
    "9. Python is a Portable language\n",
    "Python language is also a portable language. For example, if we have Python code for Windows and if we want to run this code on other platforms such as Linux, Unix, and Mac then we do not need to change it, we can run this code on any platform.\n",
    "\n",
    "10. Python is an Integrated language\n",
    "Python is also an Integrated language because we can easily integrate Python with other languages like C, C++, etc. \n",
    "\n",
    "11. Interpreted Language: \n",
    "Python is an Interpreted Language because Python code is executed line by line at a time. like other languages C, C++, Java, etc. there is no need to compile Python code this makes it easier to debug our code. The source code of Python is converted into an immediate form called bytecode.\n",
    "\n",
    "12. Large Standard Library \n",
    "Python has a large standard library that provides a rich set of modules and functions so you do not have to write your own code for every single thing. There are many libraries present in Python such as regular expressions, unit-testing, web browsers, etc.\n",
    "\n",
    "13. Dynamically Typed Language\n",
    "Python is a dynamically-typed language. That means the type (for example- int, double, long, etc.) for a variable is decided at run time not in advance because of this feature we don’t need to specify the type of variable.\n",
    "\n",
    "14. Frontend and backend development\n",
    "With a new project py script, you can run and write Python codes in HTML with the help of some simple tags <py-script>, <py-env>, etc. This will help you do frontend development work in Python like javascript. Backend is the strong forte of Python it’s extensively used for this work cause of its frameworks like Django and Flask.\n",
    "\n",
    "15.  Allocating Memory Dynamically\n",
    "In Python, the variable data type does not need to be specified. The memory is automatically allocated to a variable at runtime when it is given a value. Developers do not need to write int y = 18 if the integer value 15 is set to y. You may just type y=18."
   ]
  },
  {
   "cell_type": "markdown",
   "id": "ab0b9c43",
   "metadata": {},
   "source": [
    "#### all question and answer in assignment 1 is below the link"
   ]
  },
  {
   "cell_type": "markdown",
   "id": "9ceb9028",
   "metadata": {},
   "source": [
    "https://chat.openai.com/share/663a47bf-1291-41dd-9c2e-bef0e9da5198"
   ]
  },
  {
   "cell_type": "markdown",
   "id": "6ddc796c",
   "metadata": {},
   "source": [
    "#### Q1 . Write a program to print every character of a string entered by the user in a new line using a loop"
   ]
  },
  {
   "cell_type": "code",
   "execution_count": 1,
   "id": "701aeb86",
   "metadata": {},
   "outputs": [],
   "source": [
    "def str():\n",
    "    a = input(\"Enter the String \")\n",
    "    for i in a:\n",
    "        print(i)"
   ]
  },
  {
   "cell_type": "code",
   "execution_count": 2,
   "id": "0074802d",
   "metadata": {},
   "outputs": [
    {
     "name": "stdout",
     "output_type": "stream",
     "text": [
      "Enter the String werdts\n",
      "w\n",
      "e\n",
      "r\n",
      "d\n",
      "t\n",
      "s\n"
     ]
    }
   ],
   "source": [
    "str()"
   ]
  },
  {
   "cell_type": "markdown",
   "id": "0c3a0458",
   "metadata": {},
   "source": [
    "#### Q2. write a program to find length of the string \"Machine Learning\" with and without using len function"
   ]
  },
  {
   "cell_type": "code",
   "execution_count": 14,
   "id": "9367d781",
   "metadata": {},
   "outputs": [],
   "source": [
    "def string_count():\n",
    "    b = input(\"Enter the String of character >\")\n",
    "    count=1\n",
    "    for i in b:\n",
    "        print(f\"String >>{i}  index >>\",count)\n",
    "        count+=1"
   ]
  },
  {
   "cell_type": "code",
   "execution_count": 15,
   "id": "8aabb978",
   "metadata": {},
   "outputs": [
    {
     "name": "stdout",
     "output_type": "stream",
     "text": [
      "Enter the String of character >|Prathamesh\n",
      "String >>|  index >> 1\n",
      "String >>P  index >> 2\n",
      "String >>r  index >> 3\n",
      "String >>a  index >> 4\n",
      "String >>t  index >> 5\n",
      "String >>h  index >> 6\n",
      "String >>a  index >> 7\n",
      "String >>m  index >> 8\n",
      "String >>e  index >> 9\n",
      "String >>s  index >> 10\n",
      "String >>h  index >> 11\n"
     ]
    }
   ],
   "source": [
    "string_count()"
   ]
  },
  {
   "cell_type": "markdown",
   "id": "52dff333",
   "metadata": {},
   "source": [
    "#### Q3. Write a program to check if the word ' Orange ' is present in the string ' these is orange juice '"
   ]
  },
  {
   "cell_type": "code",
   "execution_count": 32,
   "id": "8fc80f9c",
   "metadata": {},
   "outputs": [],
   "source": [
    "def check_word():\n",
    "    a = input(\"Enter the string of character : \")\n",
    "    b = input(\"Enter the word to check : \")\n",
    "    index=a.find(b)\n",
    "    if index==-1:\n",
    "        print(f\"{b} is not in string of character\")\n",
    "    else:\n",
    "        print(f\"alphabet {b} is present at index >> {index} \")"
   ]
  },
  {
   "cell_type": "code",
   "execution_count": 34,
   "id": "798eb051",
   "metadata": {},
   "outputs": [
    {
     "name": "stdout",
     "output_type": "stream",
     "text": [
      "Enter the string of character : prathamesh sunil zadkhande\n",
      "Enter the word to check : sunil\n",
      "alphabet sunil is present at index >> 11 \n"
     ]
    }
   ],
   "source": [
    "check_word()"
   ]
  },
  {
   "cell_type": "code",
   "execution_count": null,
   "id": "abd6c66e",
   "metadata": {},
   "outputs": [],
   "source": [
    "## in these question we can use _.find() function"
   ]
  },
  {
   "cell_type": "code",
   "execution_count": 35,
   "id": "2be68ef2",
   "metadata": {},
   "outputs": [
    {
     "data": {
      "text/plain": [
       "9"
      ]
     },
     "execution_count": 35,
     "metadata": {},
     "output_type": "execute_result"
    }
   ],
   "source": [
    "a='these is orange juice'\n",
    "a.index('orange')"
   ]
  },
  {
   "cell_type": "code",
   "execution_count": null,
   "id": "df056f91",
   "metadata": {},
   "outputs": [],
   "source": []
  },
  {
   "cell_type": "markdown",
   "id": "3f5c94ae",
   "metadata": {},
   "source": [
    "#### Q4. Write a python program to find a number of vovels , constants , digits and white space character in the string "
   ]
  },
  {
   "cell_type": "code",
   "execution_count": 3,
   "id": "ff9b0cf7",
   "metadata": {},
   "outputs": [
    {
     "name": "stdout",
     "output_type": "stream",
     "text": [
      "Enter the strig : aeiou1234Rajendra\n",
      "Total Vovels in String are : 8\n",
      "Total Consonant in String are : 5\n",
      "Total Digits in String are : 4\n"
     ]
    }
   ],
   "source": [
    "def check():\n",
    "    inp = input(\"Enter the strig : \")\n",
    "    vovels = 0\n",
    "    cons = 0\n",
    "    digi = 0\n",
    "    for i in inp:\n",
    "        if i in 'aeiouAEIOU':\n",
    "            vovels+=1\n",
    "        elif i in '1234567890':\n",
    "            digi+=1\n",
    "        else:\n",
    "            cons+=1\n",
    "    print(f\"Total Vovels in String are : {vovels}\")\n",
    "    print(f\"Total Consonant in String are : {cons}\")\n",
    "    print(f\"Total Digits in String are : {digi}\")\n",
    "    \n",
    "    \n",
    "a = check()"
   ]
  },
  {
   "cell_type": "code",
   "execution_count": null,
   "id": "a125cfda",
   "metadata": {},
   "outputs": [],
   "source": []
  },
  {
   "cell_type": "code",
   "execution_count": null,
   "id": "6c1b0c9f",
   "metadata": {},
   "outputs": [],
   "source": []
  },
  {
   "cell_type": "markdown",
   "id": "e8299544",
   "metadata": {},
   "source": [
    "#### Q5. Write a python program to count Uppercase , Lowercase , Special character and numeric value in given string  "
   ]
  },
  {
   "cell_type": "code",
   "execution_count": 5,
   "id": "7d6f7ec5",
   "metadata": {},
   "outputs": [
    {
     "name": "stdout",
     "output_type": "stream",
     "text": [
      "['are', 'you', 'age', 'is']\n",
      "['H', 'P', 'H', 'Y']\n",
      "['Hellow', 'Prathamesh', 'How', 'are', 'you', 'Your', 'age', 'is']\n",
      "['20']\n"
     ]
    }
   ],
   "source": [
    "# First Method \n",
    "str1 = \"Hellow Prathamesh How are you @> Your age is 20\"\n",
    "str2 = str1.split()\n",
    "lo=[i for i in str2 if i.islower()]\n",
    "sp=[i for i in str2 if i.isalpha()]\n",
    "up=[j for j in str1 if j.isupper()]\n",
    "nu=[i for i in str2 if i.isdecimal()]\n",
    "print(lo)\n",
    "print(up)\n",
    "print(sp)\n",
    "print(nu)"
   ]
  },
  {
   "cell_type": "code",
   "execution_count": 1,
   "id": "cff14f0e",
   "metadata": {},
   "outputs": [
    {
     "name": "stdout",
     "output_type": "stream",
     "text": [
      "['e', 'l', 'l', 'o', 'w', 'r', 'a', 't', 'h', 'a', 'm', 'e', 's', 'h', 'o', 'w', 'a', 'r', 'e', 'y', 'o', 'u', 'o', 'u', 'r', 'a', 'g', 'e', 'i', 's']\n",
      "['H', 'P', 'H', 'Y']\n",
      "['2', '0']\n",
      "[' ', ' ', ' ', ' ', ' ', '@', '>', ' ', ' ', ' ', ' ']\n"
     ]
    }
   ],
   "source": [
    "# second Method\n",
    "str1 = \"Hellow Prathamesh How are you @> Your age is 20\"\n",
    "lo=[]\n",
    "up=[]\n",
    "nu=[]\n",
    "sp=[]\n",
    "for i in str1:\n",
    "    if i.isupper():\n",
    "        up.append(i)\n",
    "    elif i.islower():\n",
    "        lo.append(i)\n",
    "    elif i.isdecimal():\n",
    "        nu.append(i)\n",
    "    else:\n",
    "        sp.append(i)\n",
    "print(lo)\n",
    "print(up)\n",
    "print(nu)\n",
    "print(sp)\n"
   ]
  },
  {
   "cell_type": "code",
   "execution_count": 2,
   "id": "193fc880",
   "metadata": {},
   "outputs": [],
   "source": [
    "# using function\n",
    "def str_chr():\n",
    "    str1=input(\"Enter String of Character here :\")\n",
    "    str2 = str1.split()\n",
    "    lo=[i for i in str2 if i.islower()]\n",
    "    up=[j for j in str1 if j.isupper()]\n",
    "    nu=[i for i in str2 if i.isdecimal()]\n",
    "    print(lo)\n",
    "    print(up)\n",
    "    print(nu)"
   ]
  },
  {
   "cell_type": "code",
   "execution_count": null,
   "id": "05b58809",
   "metadata": {},
   "outputs": [],
   "source": []
  },
  {
   "cell_type": "markdown",
   "id": "ddc4ac61",
   "metadata": {},
   "source": [
    "#### Q6. Write a python program to make a new string with all constants deleted from the string \"Hellow, have a good day\" ."
   ]
  },
  {
   "cell_type": "code",
   "execution_count": 4,
   "id": "cb4c3209",
   "metadata": {},
   "outputs": [
    {
     "name": "stdout",
     "output_type": "stream",
     "text": [
      "New String without Consonant : eoaeaooa\n"
     ]
    }
   ],
   "source": [
    "a = \"Hellow, have a good day\"\n",
    "b = \"\"\n",
    "for i in a:\n",
    "    if i in 'aeiouAEIOU':\n",
    "        b+=i\n",
    "print(f\"New String without Consonant : {b}\")"
   ]
  },
  {
   "cell_type": "code",
   "execution_count": null,
   "id": "c5711f66",
   "metadata": {},
   "outputs": [],
   "source": []
  },
  {
   "cell_type": "markdown",
   "id": "e5735b39",
   "metadata": {},
   "source": [
    "#### Q7. Write a python program to remove nth index character from a non-empty string "
   ]
  },
  {
   "cell_type": "code",
   "execution_count": null,
   "id": "53346e07",
   "metadata": {},
   "outputs": [],
   "source": []
  },
  {
   "cell_type": "code",
   "execution_count": 5,
   "id": "e1759ef4",
   "metadata": {},
   "outputs": [],
   "source": [
    "def remove_chr():\n",
    "    input_string=input(\"Enter the string here :\")\n",
    "    b = int(input(\"Index of the character to remove :\"))\n",
    "    if 0<= b <len(input_string):\n",
    "        new_string = input_string[:b]+input_string[b+1:]\n",
    "        print(new_string)"
   ]
  },
  {
   "cell_type": "code",
   "execution_count": 7,
   "id": "efeace99",
   "metadata": {},
   "outputs": [
    {
     "name": "stdout",
     "output_type": "stream",
     "text": [
      "Enter the string here :PrathamT\n",
      "Index of the character to remove :7\n",
      "Pratham\n"
     ]
    }
   ],
   "source": [
    "remove_chr()"
   ]
  },
  {
   "cell_type": "markdown",
   "id": "83697d9e",
   "metadata": {},
   "source": [
    "#### Q8. Write a python program to change a given string to new string where the first and last character has been exchanged"
   ]
  },
  {
   "cell_type": "code",
   "execution_count": 10,
   "id": "f4d4146b",
   "metadata": {},
   "outputs": [],
   "source": [
    "def input_str():\n",
    "    input_string=input(\"Enter string :\")\n",
    "    first_str=input_string[0]\n",
    "    last_str=input_string[-1]\n",
    "    middle_str=input_string[1:-1]\n",
    "    new_str=last_str+middle_str+first_str\n",
    "    return new_str"
   ]
  },
  {
   "cell_type": "code",
   "execution_count": 15,
   "id": "116cad40",
   "metadata": {},
   "outputs": [
    {
     "name": "stdout",
     "output_type": "stream",
     "text": [
      "Enter string :1010\n"
     ]
    },
    {
     "data": {
      "text/plain": [
       "'0011'"
      ]
     },
     "execution_count": 15,
     "metadata": {},
     "output_type": "execute_result"
    }
   ],
   "source": [
    "input_str()"
   ]
  },
  {
   "cell_type": "code",
   "execution_count": null,
   "id": "576d8983",
   "metadata": {},
   "outputs": [],
   "source": []
  },
  {
   "cell_type": "markdown",
   "id": "7d0e34db",
   "metadata": {},
   "source": [
    "#### Q9. WAP to count the occurrence of each word in a given sentence  "
   ]
  },
  {
   "cell_type": "code",
   "execution_count": 21,
   "id": "8487f215",
   "metadata": {},
   "outputs": [
    {
     "name": "stdout",
     "output_type": "stream",
     "text": [
      "Enter the sentencesad dfg asda sdasdasd\n",
      "Word : sad , Count : 1\n",
      "Word : dfg , Count : 2\n",
      "Word : asda , Count : 3\n",
      "Word : sdasdasd , Count : 4\n"
     ]
    }
   ],
   "source": [
    "sentence = input(\"Enter the sentence\")\n",
    "new = sentence.split()\n",
    "count=1\n",
    "for i in new:\n",
    "    print(f\"Word : {i} , Count : {count}\")\n",
    "    count+=1\n"
   ]
  },
  {
   "cell_type": "code",
   "execution_count": null,
   "id": "0f147601",
   "metadata": {},
   "outputs": [],
   "source": []
  },
  {
   "cell_type": "markdown",
   "id": "f6852aaf",
   "metadata": {},
   "source": [
    "#### Q10. How do you count the occurance of a given character in a string "
   ]
  },
  {
   "cell_type": "code",
   "execution_count": 36,
   "id": "45b52c37",
   "metadata": {},
   "outputs": [],
   "source": [
    "def cou_nt():\n",
    "    string=input(\"Enter the string :\")\n",
    "    char=input(\"Enter the character :\")\n",
    "    count = string.count(char)\n",
    "    return count"
   ]
  },
  {
   "cell_type": "code",
   "execution_count": 37,
   "id": "fa1c6204",
   "metadata": {},
   "outputs": [
    {
     "name": "stdout",
     "output_type": "stream",
     "text": [
      "Enter the string :dfv ghxdf\n",
      "Enter the character :d\n"
     ]
    },
    {
     "data": {
      "text/plain": [
       "2"
      ]
     },
     "execution_count": 37,
     "metadata": {},
     "output_type": "execute_result"
    }
   ],
   "source": [
    "cou_nt()"
   ]
  },
  {
   "cell_type": "code",
   "execution_count": null,
   "id": "c19e1fd3",
   "metadata": {},
   "outputs": [],
   "source": []
  },
  {
   "cell_type": "markdown",
   "id": "39c90d3b",
   "metadata": {},
   "source": [
    "#### Q11.write a program to count last 10 character of string "
   ]
  },
  {
   "cell_type": "code",
   "execution_count": 12,
   "id": "58824291",
   "metadata": {},
   "outputs": [
    {
     "name": "stdout",
     "output_type": "stream",
     "text": [
      " Character >o is repeted by 1 times\n",
      " Character >  is repeted by 6 times\n",
      " Character >l is repeted by 1 times\n",
      " Character >e is repeted by 5 times\n",
      " Character >a is repeted by 4 times\n",
      " Character >r is repeted by 2 times\n",
      " Character >n is repeted by 3 times\n",
      " Character >i is repeted by 3 times\n",
      " Character >n is repeted by 3 times\n",
      " Character >g is repeted by 1 times\n"
     ]
    }
   ],
   "source": [
    "str1=\"data science is very easy to learning\"\n",
    "char_count=str1[-10::]\n",
    "for i in char_count:\n",
    "    print(f\" Character >{i} is repeted by {str1.count(i)} times\")"
   ]
  },
  {
   "cell_type": "code",
   "execution_count": 17,
   "id": "d8f17fb3",
   "metadata": {},
   "outputs": [],
   "source": [
    "def char_count():\n",
    "    str1=input(\"Enter the string :\")\n",
    "    char_count=str1[-10::]\n",
    "    for i in char_count:\n",
    "        print(f\" Character >{i} is repeted by {str1.count(i)} times\")\n",
    "    \n",
    "    "
   ]
  },
  {
   "cell_type": "code",
   "execution_count": 18,
   "id": "7977616d",
   "metadata": {},
   "outputs": [
    {
     "name": "stdout",
     "output_type": "stream",
     "text": [
      "Enter the string :sfsdfsdwera sdfsdfsed prahtamesh\n",
      " Character >p is repeted by 1 times\n",
      " Character >r is repeted by 2 times\n",
      " Character >a is repeted by 3 times\n",
      " Character >h is repeted by 2 times\n",
      " Character >t is repeted by 1 times\n",
      " Character >a is repeted by 3 times\n",
      " Character >m is repeted by 1 times\n",
      " Character >e is repeted by 3 times\n",
      " Character >s is repeted by 7 times\n",
      " Character >h is repeted by 2 times\n"
     ]
    }
   ],
   "source": [
    "char_count()"
   ]
  },
  {
   "cell_type": "code",
   "execution_count": null,
   "id": "af46e4bc",
   "metadata": {},
   "outputs": [],
   "source": []
  },
  {
   "cell_type": "markdown",
   "id": "4b45203e",
   "metadata": {},
   "source": [
    "#### Q12. WAP to  convet a given string to all uppercase of it contains at least 2 uppercase character in first 4 character "
   ]
  },
  {
   "cell_type": "code",
   "execution_count": 8,
   "id": "ee6facf1",
   "metadata": {},
   "outputs": [],
   "source": [
    "def fun_12():\n",
    "    in_str=input(\"Enter the string :\")\n",
    "    count = 0\n",
    "    for i in in_str[:4]:\n",
    "        if i.isupper():\n",
    "            count +=1\n",
    "        else:\n",
    "            count=0\n",
    "    if count<4:\n",
    "        new_str = in_str.upper()\n",
    "        return new_str \n",
    "    else :\n",
    "        return in_str"
   ]
  },
  {
   "cell_type": "code",
   "execution_count": 9,
   "id": "ecfdd908",
   "metadata": {},
   "outputs": [
    {
     "name": "stdout",
     "output_type": "stream",
     "text": [
      "Enter the string :asff  EEFd\n"
     ]
    },
    {
     "data": {
      "text/plain": [
       "'ASFF  EEFD'"
      ]
     },
     "execution_count": 9,
     "metadata": {},
     "output_type": "execute_result"
    }
   ],
   "source": [
    "fun_12()\n"
   ]
  },
  {
   "cell_type": "code",
   "execution_count": null,
   "id": "87a5d83f",
   "metadata": {},
   "outputs": [],
   "source": []
  },
  {
   "cell_type": "markdown",
   "id": "80cc947c",
   "metadata": {},
   "source": [
    "#### Q13. write a python program to ramove a new line in python"
   ]
  },
  {
   "cell_type": "code",
   "execution_count": 17,
   "id": "fdd9a9b6",
   "metadata": {},
   "outputs": [
    {
     "name": "stdout",
     "output_type": "stream",
     "text": [
      "data science is part of \n",
      " Machine Learning\n",
      " Remove new line >> data science is part of   Machine Learning\n"
     ]
    }
   ],
   "source": [
    "# we can use replace( ) function \n",
    "str2 = \"data science is part of \\n Machine Learning\"\n",
    "str3 = str2.replace('\\n',' ')\n",
    "print(str2)\n",
    "print(f\" Remove new line >> {str3}\")"
   ]
  },
  {
   "cell_type": "code",
   "execution_count": null,
   "id": "41f572c3",
   "metadata": {},
   "outputs": [],
   "source": []
  },
  {
   "cell_type": "markdown",
   "id": "917b4280",
   "metadata": {},
   "source": [
    "#### Q14.Write a python program to swap commas and dots in a string "
   ]
  },
  {
   "cell_type": "code",
   "execution_count": 18,
   "id": "96163671",
   "metadata": {},
   "outputs": [],
   "source": [
    "# Sample string : \"3,1400.30\"\n",
    "# Expected string : \"3.1400,30\""
   ]
  },
  {
   "cell_type": "code",
   "execution_count": 22,
   "id": "fa6207f2",
   "metadata": {},
   "outputs": [
    {
     "name": "stdout",
     "output_type": "stream",
     "text": [
      "Sample string: 3.1400,30\n",
      "Swapped string: 3,1400.30\n"
     ]
    }
   ],
   "source": [
    "# Sample string\n",
    "sample_string = \"3.1400,30\"\n",
    "\n",
    "# Create a translation table\n",
    "trans_table = str.maketrans(\",.\", \".,\")  # Swap commas and dots\n",
    "\n",
    "# Apply the translation\n",
    "swapped_string = sample_string.translate(trans_table)\n",
    "\n",
    "print(\"Sample string:\", sample_string)\n",
    "print(\"Swapped string:\", swapped_string)\n"
   ]
  },
  {
   "cell_type": "code",
   "execution_count": 13,
   "id": "567db666",
   "metadata": {},
   "outputs": [
    {
     "name": "stdout",
     "output_type": "stream",
     "text": [
      "3,454,6\n"
     ]
    }
   ],
   "source": [
    "v='3,454.6'\n",
    "b= v.replace(',.','.,') and v.replace('.',',')\n",
    "\n",
    "print(b)"
   ]
  },
  {
   "cell_type": "code",
   "execution_count": null,
   "id": "f85c0d79",
   "metadata": {},
   "outputs": [],
   "source": []
  },
  {
   "cell_type": "code",
   "execution_count": null,
   "id": "43a32de4",
   "metadata": {},
   "outputs": [],
   "source": []
  },
  {
   "cell_type": "markdown",
   "id": "2ba0ade0",
   "metadata": {},
   "source": [
    "#### Q15. WAP to find first repeated character in a given string "
   ]
  },
  {
   "cell_type": "code",
   "execution_count": 35,
   "id": "ac6fe783",
   "metadata": {},
   "outputs": [
    {
     "data": {
      "text/plain": [
       "3"
      ]
     },
     "execution_count": 35,
     "metadata": {},
     "output_type": "execute_result"
    }
   ],
   "source": [
    "str4=\"ababba\"\n",
    "str4.count('a')\n",
    "\n",
    "    "
   ]
  },
  {
   "cell_type": "markdown",
   "id": "575e55f7",
   "metadata": {},
   "source": [
    "####  Q16. WAP to find second most repeated character in a given string"
   ]
  },
  {
   "cell_type": "code",
   "execution_count": 37,
   "id": "7895fe46",
   "metadata": {},
   "outputs": [
    {
     "data": {
      "text/plain": [
       "3"
      ]
     },
     "execution_count": 37,
     "metadata": {},
     "output_type": "execute_result"
    }
   ],
   "source": [
    "str4=\"ababba\"\n",
    "str4.count('b')\n"
   ]
  },
  {
   "cell_type": "markdown",
   "id": "8245fee2",
   "metadata": {},
   "source": [
    "#### Q17. write a program to count even and odd numbers in given string "
   ]
  },
  {
   "cell_type": "code",
   "execution_count": 15,
   "id": "a222977b",
   "metadata": {},
   "outputs": [],
   "source": [
    "def odd_even(a,b):\n",
    "    l1=[]\n",
    "    l2=[]\n",
    "    for i in range(a,b+1):\n",
    "        if i%2==0:\n",
    "            l1.append(i)\n",
    "        elif i%2!=0:\n",
    "            l2.append(i)\n",
    "    return l1 ,l2 \n",
    "        \n"
   ]
  },
  {
   "cell_type": "code",
   "execution_count": 16,
   "id": "1d5d19e4",
   "metadata": {},
   "outputs": [
    {
     "data": {
      "text/plain": [
       "([4, 6, 8, 10, 12, 14, 16, 18, 20, 22, 24, 26, 28, 30, 32, 34, 36, 38, 40],\n",
       " [3, 5, 7, 9, 11, 13, 15, 17, 19, 21, 23, 25, 27, 29, 31, 33, 35, 37, 39])"
      ]
     },
     "execution_count": 16,
     "metadata": {},
     "output_type": "execute_result"
    }
   ],
   "source": [
    "odd_even(3,40)"
   ]
  },
  {
   "cell_type": "code",
   "execution_count": null,
   "id": "4777fa7a",
   "metadata": {},
   "outputs": [],
   "source": []
  },
  {
   "cell_type": "markdown",
   "id": "1c87f47b",
   "metadata": {},
   "source": [
    "#### Q18.How do you check if string contains only digits"
   ]
  },
  {
   "cell_type": "code",
   "execution_count": 10,
   "id": "04bd0071",
   "metadata": {},
   "outputs": [
    {
     "data": {
      "text/plain": [
       "True"
      ]
     },
     "execution_count": 10,
     "metadata": {},
     "output_type": "execute_result"
    }
   ],
   "source": [
    "def digits(a):\n",
    "    return a.isdigit()\n",
    "\n",
    "digits('1234')"
   ]
  },
  {
   "cell_type": "code",
   "execution_count": 11,
   "id": "7ba20343",
   "metadata": {},
   "outputs": [
    {
     "data": {
      "text/plain": [
       "False"
      ]
     },
     "execution_count": 11,
     "metadata": {},
     "output_type": "execute_result"
    }
   ],
   "source": [
    "digits('q123a')"
   ]
  },
  {
   "cell_type": "code",
   "execution_count": null,
   "id": "59d241c5",
   "metadata": {},
   "outputs": [],
   "source": [
    "Using str.isdigit() method:\n",
    "You can use the str.isdigit() method to check if all characters in the string are digits. "
   ]
  },
  {
   "cell_type": "code",
   "execution_count": null,
   "id": "5a9b8c0f",
   "metadata": {},
   "outputs": [],
   "source": []
  },
  {
   "cell_type": "markdown",
   "id": "584a91d5",
   "metadata": {},
   "source": [
    "#### Q19. How do you remove a given character or word from string "
   ]
  },
  {
   "cell_type": "code",
   "execution_count": 13,
   "id": "1100c488",
   "metadata": {},
   "outputs": [
    {
     "data": {
      "text/plain": [
       "'Data science , Machine learnig , Deep learning , '"
      ]
     },
     "execution_count": 13,
     "metadata": {},
     "output_type": "execute_result"
    }
   ],
   "source": [
    "string = 'Data science , Machine learnig , Deep learning , AI'\n",
    "string.replace(\"AI\" , \"\")"
   ]
  },
  {
   "cell_type": "code",
   "execution_count": null,
   "id": "747240da",
   "metadata": {},
   "outputs": [],
   "source": []
  },
  {
   "cell_type": "markdown",
   "id": "33746603",
   "metadata": {},
   "source": [
    "#### Q20. Write a program to remove the characters which have odd index values of a given string"
   ]
  },
  {
   "cell_type": "code",
   "execution_count": 22,
   "id": "0e65a0e2",
   "metadata": {},
   "outputs": [
    {
     "name": "stdout",
     "output_type": "stream",
     "text": [
      "Poo ant\n"
     ]
    }
   ],
   "source": [
    "string = \"Proton Magnet\"\n",
    "result = \"\"\n",
    "for i in range(len(string)):\n",
    "    if i%2==0:\n",
    "        result += string[i]\n",
    "print(result)"
   ]
  },
  {
   "cell_type": "code",
   "execution_count": 24,
   "id": "e091c042",
   "metadata": {},
   "outputs": [],
   "source": [
    "def remove_odd_index(string):\n",
    "    result = \"\"\n",
    "    for i in range(len(string)):\n",
    "        if i%2==0:\n",
    "            result += string[i]\n",
    "    return result"
   ]
  },
  {
   "cell_type": "code",
   "execution_count": 25,
   "id": "c5470272",
   "metadata": {},
   "outputs": [
    {
     "data": {
      "text/plain": [
       "'Pahms'"
      ]
     },
     "execution_count": 25,
     "metadata": {},
     "output_type": "execute_result"
    }
   ],
   "source": [
    "remove_odd_index(\"Prathamesh\")"
   ]
  },
  {
   "cell_type": "markdown",
   "id": "b17ff9b1",
   "metadata": {},
   "source": [
    "#### Q21. Write a python function to reverse a string if it's length is multiple of 5"
   ]
  },
  {
   "cell_type": "code",
   "execution_count": 51,
   "id": "08d86bf5",
   "metadata": {},
   "outputs": [],
   "source": [
    "def reverse_string_if_multiple_of_5(input_string):\n",
    "    if len(input_string) % 5 == 0:\n",
    "        return input_string[::-1]  # Reverse the string\n",
    "    else:\n",
    "        return \"String Could not multiple of 5\""
   ]
  },
  {
   "cell_type": "code",
   "execution_count": 53,
   "id": "2a51be9c",
   "metadata": {},
   "outputs": [
    {
     "data": {
      "text/plain": [
       "'String Could not multiple of 5'"
      ]
     },
     "execution_count": 53,
     "metadata": {},
     "output_type": "execute_result"
    }
   ],
   "source": [
    "reverse_string_if_multiple_of_5(\"Hello AVB\")"
   ]
  },
  {
   "cell_type": "code",
   "execution_count": null,
   "id": "a9bae14d",
   "metadata": {},
   "outputs": [],
   "source": []
  },
  {
   "cell_type": "markdown",
   "id": "2d833ae8",
   "metadata": {},
   "source": [
    "#### Q22. Write a program to format a number with a percentage ( 0.05 >> 5%)"
   ]
  },
  {
   "cell_type": "code",
   "execution_count": 64,
   "id": "e44f8883",
   "metadata": {},
   "outputs": [
    {
     "name": "stdout",
     "output_type": "stream",
     "text": [
      "5%\n"
     ]
    }
   ],
   "source": [
    "number = 0.05\n",
    "formatted_percentage = \"{:.0%}\".format(number)\n",
    "print(formatted_percentage)  # Output: \"5%\"\n"
   ]
  },
  {
   "cell_type": "code",
   "execution_count": 65,
   "id": "924fffde",
   "metadata": {},
   "outputs": [
    {
     "name": "stdout",
     "output_type": "stream",
     "text": [
      "6%\n"
     ]
    }
   ],
   "source": [
    "a= 0.06\n",
    "b = \"{:.0%}\".format(a)\n",
    "print(b)"
   ]
  },
  {
   "cell_type": "code",
   "execution_count": null,
   "id": "02158948",
   "metadata": {},
   "outputs": [],
   "source": []
  },
  {
   "cell_type": "markdown",
   "id": "f705ad15",
   "metadata": {},
   "source": [
    "#### Q23. Write a program to reverse words in string "
   ]
  },
  {
   "cell_type": "code",
   "execution_count": 66,
   "id": "b3de000a",
   "metadata": {},
   "outputs": [
    {
     "name": "stdout",
     "output_type": "stream",
     "text": [
      " wolleH\n"
     ]
    }
   ],
   "source": [
    "a= \"Hellow \"\n",
    "print(a[::-1])"
   ]
  },
  {
   "cell_type": "code",
   "execution_count": 67,
   "id": "1296fd16",
   "metadata": {},
   "outputs": [],
   "source": [
    "def reverse(a):\n",
    "    return a[::-1]"
   ]
  },
  {
   "cell_type": "code",
   "execution_count": 69,
   "id": "d4e89e6d",
   "metadata": {},
   "outputs": [
    {
     "data": {
      "text/plain": [
       "'aram aram aram'"
      ]
     },
     "execution_count": 69,
     "metadata": {},
     "output_type": "execute_result"
    }
   ],
   "source": [
    "reverse(\"mara mara mara\")"
   ]
  },
  {
   "cell_type": "markdown",
   "id": "39b98a85",
   "metadata": {},
   "source": [
    "#### Q24. Write a program to remove spaces from a given string \n"
   ]
  },
  {
   "cell_type": "code",
   "execution_count": 75,
   "id": "ae891e54",
   "metadata": {},
   "outputs": [
    {
     "data": {
      "text/plain": [
       "'lorem11asrergsdfaswerwredsfsdf'"
      ]
     },
     "execution_count": 75,
     "metadata": {},
     "output_type": "execute_result"
    }
   ],
   "source": [
    "a=\"lorem11 asr erg sdf aswerwre dsfsdf\"\n",
    "a.replace(\" \",\"\")\n"
   ]
  },
  {
   "cell_type": "code",
   "execution_count": null,
   "id": "2c9dd755",
   "metadata": {},
   "outputs": [],
   "source": []
  },
  {
   "cell_type": "markdown",
   "id": "9d9fc3bd",
   "metadata": {},
   "source": [
    "#### Q25. Write a python program to remove a dublicate character of given string"
   ]
  },
  {
   "cell_type": "code",
   "execution_count": null,
   "id": "de90fec1",
   "metadata": {},
   "outputs": [],
   "source": [
    "To remove duplicate characters from a given string in Python, you can create a program using a set or a dictionary\n",
    "to keep track of the characters you've seen so far. Here's an example using a set:"
   ]
  },
  {
   "cell_type": "code",
   "execution_count": 6,
   "id": "d04807d0",
   "metadata": {},
   "outputs": [
    {
     "name": "stdout",
     "output_type": "stream",
     "text": [
      "Enter the string :Hellow\n",
      "H e l o w\n"
     ]
    }
   ],
   "source": [
    "str1 = input(\"Enter the string :\")\n",
    "set1= set()\n",
    "list1 = []\n",
    "for i in str1:\n",
    "    if i not in set1:\n",
    "        set1.add(i)\n",
    "        list1.append(i)\n",
    "print(\" \".join(list1)) "
   ]
  },
  {
   "cell_type": "code",
   "execution_count": null,
   "id": "ca8ed6c7",
   "metadata": {},
   "outputs": [],
   "source": []
  },
  {
   "cell_type": "markdown",
   "id": "03427db9",
   "metadata": {},
   "source": [
    "#### Q26. write a program to find area of circle "
   ]
  },
  {
   "cell_type": "code",
   "execution_count": 11,
   "id": "5dfac68f",
   "metadata": {},
   "outputs": [
    {
     "name": "stdout",
     "output_type": "stream",
     "text": [
      "Enter the area i :6.23\n",
      "121.93421851100001\n"
     ]
    }
   ],
   "source": [
    "r = float(input(\"Enter the area i :\"))\n",
    "area = 3.14159 * r*r\n",
    "print(area)"
   ]
  },
  {
   "cell_type": "code",
   "execution_count": null,
   "id": "078b0b69",
   "metadata": {},
   "outputs": [],
   "source": [
    "2nd method "
   ]
  },
  {
   "cell_type": "code",
   "execution_count": 7,
   "id": "9e6ccd9f",
   "metadata": {},
   "outputs": [],
   "source": [
    "import math\n",
    "\n",
    "def circle_radius(radius):\n",
    "    radius = math.pi * radius**2\n",
    "    return radius"
   ]
  },
  {
   "cell_type": "code",
   "execution_count": 9,
   "id": "3bdd629d",
   "metadata": {},
   "outputs": [
    {
     "data": {
      "text/plain": [
       "121.9343215045153"
      ]
     },
     "execution_count": 9,
     "metadata": {},
     "output_type": "execute_result"
    }
   ],
   "source": [
    "circle_radius(6.23)"
   ]
  },
  {
   "cell_type": "code",
   "execution_count": null,
   "id": "e5f10116",
   "metadata": {},
   "outputs": [],
   "source": []
  },
  {
   "cell_type": "markdown",
   "id": "a851c7e7",
   "metadata": {},
   "source": [
    "#### Q27. Program to find sum of square of first n natural numbers "
   ]
  },
  {
   "cell_type": "code",
   "execution_count": 18,
   "id": "84a0be1a",
   "metadata": {},
   "outputs": [],
   "source": [
    "def sum_sq(a):\n",
    "    b = 0\n",
    "    for i in range(1,a+1):\n",
    "        b += i**2\n",
    "    return (f\"Sum of first {a} Natural numbers Square is : {b}\")"
   ]
  },
  {
   "cell_type": "code",
   "execution_count": 20,
   "id": "86926949",
   "metadata": {},
   "outputs": [
    {
     "data": {
      "text/plain": [
       "'Sum of first 5 Natural numbers Square is : 55'"
      ]
     },
     "execution_count": 20,
     "metadata": {},
     "output_type": "execute_result"
    }
   ],
   "source": [
    "sum_sq(5)"
   ]
  },
  {
   "cell_type": "code",
   "execution_count": null,
   "id": "77735d42",
   "metadata": {},
   "outputs": [],
   "source": []
  },
  {
   "cell_type": "markdown",
   "id": "738ed22a",
   "metadata": {},
   "source": [
    "#### Q28. Program to find sum of cube of fist n natural numbers "
   ]
  },
  {
   "cell_type": "code",
   "execution_count": 23,
   "id": "f44106b5",
   "metadata": {},
   "outputs": [],
   "source": [
    "def sum_cube(a):\n",
    "    b = 0\n",
    "    for i in range(1,a+1):\n",
    "        b += i*i*i\n",
    "    return (f\"Sum of First {a} Natural Number Cube is : {b}\")"
   ]
  },
  {
   "cell_type": "code",
   "execution_count": 24,
   "id": "46a5bb5d",
   "metadata": {},
   "outputs": [
    {
     "data": {
      "text/plain": [
       "'Sum of First 6 Natural Number Cube is : 441'"
      ]
     },
     "execution_count": 24,
     "metadata": {},
     "output_type": "execute_result"
    }
   ],
   "source": [
    "sum_cube(6)"
   ]
  },
  {
   "cell_type": "code",
   "execution_count": null,
   "id": "7a9e5723",
   "metadata": {},
   "outputs": [],
   "source": []
  },
  {
   "cell_type": "markdown",
   "id": "756825e8",
   "metadata": {},
   "source": [
    "#### Q29. Python program to find simple intrest and compound interest "
   ]
  },
  {
   "cell_type": "code",
   "execution_count": 31,
   "id": "207b8bea",
   "metadata": {},
   "outputs": [],
   "source": [
    "# Program for simple intrest \n",
    "def simple_intrest():\n",
    "    principle = int(input(\"Enter the Principle Amount :\"))\n",
    "    rate = float(input(\"Enter the Rate of Intrest :\"))\n",
    "    time = int(input(\"Enter the time on Yearly basis :\"))\n",
    "    simple_int = (principle * rate * time)\n",
    "    return simple_int\n",
    "\n",
    "def compound_intrest():\n",
    "    principle = int(input(\"Enter the Principle Amount :\"))\n",
    "    rate = float(input(\"Enter the Rate of Intrest :\"))\n",
    "    time = int(input(\"Enter the time on Yearly basis :\"))\n",
    "    compound_int = (principle *(1+rate)**time - principle)\n",
    "    return compound_int\n",
    "    "
   ]
  },
  {
   "cell_type": "code",
   "execution_count": 49,
   "id": "d66bf3fa",
   "metadata": {},
   "outputs": [
    {
     "name": "stdout",
     "output_type": "stream",
     "text": [
      "Enter the Principle Amount :22222\n",
      "Enter the Rate of Intrest :22\n",
      "Enter the time on Yearly basis :2\n"
     ]
    },
    {
     "data": {
      "text/plain": [
       "11733216.0"
      ]
     },
     "execution_count": 49,
     "metadata": {},
     "output_type": "execute_result"
    }
   ],
   "source": [
    "compound_intrest()"
   ]
  },
  {
   "cell_type": "code",
   "execution_count": null,
   "id": "6f4bbc87",
   "metadata": {},
   "outputs": [],
   "source": []
  },
  {
   "cell_type": "markdown",
   "id": "f1e7b2df",
   "metadata": {},
   "source": [
    "#### Q30. Python program to check whether the number is prime or not "
   ]
  },
  {
   "cell_type": "code",
   "execution_count": 1,
   "id": "16c97216",
   "metadata": {
    "scrolled": true
   },
   "outputs": [
    {
     "name": "stdout",
     "output_type": "stream",
     "text": [
      "[2, 3, 5, 7, 11, 13, 17, 19, 23, 29, 31, 37, 41, 43, 47, 53, 59, 61, 67, 71, 73, 79, 83, 89, 97]\n"
     ]
    }
   ],
   "source": [
    "l1=[]\n",
    "for i in range(2,101):\n",
    "    for j in range (2,101):\n",
    "        if i%j == 0:\n",
    "            break\n",
    "    if i==j:\n",
    "        l1.append(i)\n",
    "print(l1)"
   ]
  },
  {
   "cell_type": "code",
   "execution_count": 63,
   "id": "00877c79",
   "metadata": {},
   "outputs": [],
   "source": [
    "def prime(a,b):\n",
    "    l1=[]\n",
    "    for i in range(a,b+1):\n",
    "        for j in range(a,b+1):\n",
    "            if i%j==0:\n",
    "                break\n",
    "        if i==j:\n",
    "            l1.append(i)\n",
    "    return l1"
   ]
  },
  {
   "cell_type": "code",
   "execution_count": 64,
   "id": "3fb8e515",
   "metadata": {},
   "outputs": [
    {
     "data": {
      "text/plain": [
       "[2, 3, 5, 7, 11, 13, 17, 19, 23, 29, 31, 37, 41, 43, 47]"
      ]
     },
     "execution_count": 64,
     "metadata": {},
     "output_type": "execute_result"
    }
   ],
   "source": [
    "prime(2,51)"
   ]
  },
  {
   "cell_type": "code",
   "execution_count": null,
   "id": "dfef36c1",
   "metadata": {},
   "outputs": [],
   "source": []
  },
  {
   "cell_type": "code",
   "execution_count": null,
   "id": "315cd894",
   "metadata": {},
   "outputs": [],
   "source": []
  },
  {
   "cell_type": "code",
   "execution_count": null,
   "id": "1e5c3402",
   "metadata": {},
   "outputs": [],
   "source": []
  }
 ],
 "metadata": {
  "kernelspec": {
   "display_name": "Python 3 (ipykernel)",
   "language": "python",
   "name": "python3"
  },
  "language_info": {
   "codemirror_mode": {
    "name": "ipython",
    "version": 3
   },
   "file_extension": ".py",
   "mimetype": "text/x-python",
   "name": "python",
   "nbconvert_exporter": "python",
   "pygments_lexer": "ipython3",
   "version": "3.9.13"
  }
 },
 "nbformat": 4,
 "nbformat_minor": 5
}
