{
 "cells": [
  {
   "cell_type": "markdown",
   "id": "f790294f",
   "metadata": {},
   "source": [
    "#### Q1.what is list"
   ]
  },
  {
   "cell_type": "raw",
   "id": "f6e199a0",
   "metadata": {},
   "source": [
    "In Python, a list is a built-in data structure used to store a collection of items. Lists are one of the most commonly used data structures in Python, and they are versatile and flexible. Here are some key characteristics of Python lists:\n",
    "\n",
    "Ordered Collection: Lists maintain the order of the elements they contain. You can access elements in a list by their index, and the order in which you add elements to the list is preserved.\n",
    "\n",
    "Heterogeneous: Lists can contain elements of different data types. For example, you can have integers, strings, floats, or even other lists within a single list.\n",
    "\n",
    "Mutable: Lists are mutable, which means you can change, add, or remove elements after creating a list.\n",
    "\n",
    "Dynamic: Lists can grow or shrink in size as needed. You don't need to specify the size of a list when you create it.\n",
    "\n",
    "Enclosed in Square Brackets: Lists are defined by enclosing a comma-separated sequence of elements within square brackets [ ].\n",
    "\n",
    "Here's an example of creating a list in Python:\n",
    "my_list = [1, 2, 3, \"Hello\", 5.0]\n",
    "\n",
    "In this example, my_list is a Python list that contains integers, a string, and a float. You can access individual elements by their index, like my_list[0] to get the first element, which is 1.\n",
    "\n",
    "Lists are widely used for tasks like storing collections of data, iterating over elements, and performing various operations on the data they contain. They are a fundamental data structure in Python and are used extensively in programming."
   ]
  },
  {
   "cell_type": "markdown",
   "id": "eaaa443a",
   "metadata": {},
   "source": [
    "#### Q2. What is a Tuple"
   ]
  },
  {
   "cell_type": "raw",
   "id": "463782e0",
   "metadata": {},
   "source": [
    "In Python, a tuple is a built-in data structure that is quite similar to a list in some ways but has some key differences:\n",
    "\n",
    "Ordered Collection: Like lists, tuples are ordered collections of items. This means that the order in which you add elements to a tuple is preserved, and you can access elements by their index.\n",
    "\n",
    "Heterogeneous: Tuples can contain elements of different data types, just like lists. You can have integers, strings, floats, or other types within a single tuple.\n",
    "\n",
    "Immutable: The most significant difference between tuples and lists is that tuples are immutable. Once you create a tuple and assign elements to it, you cannot change, add, or remove elements from the tuple. This immutability makes tuples suitable for situations where you want to ensure that the data remains unchanged.\n",
    "\n",
    "Enclosed in Parentheses: Tuples are defined by enclosing a comma-separated sequence of elements within parentheses ( ).\n",
    "\n",
    "Here's an example of creating a tuple in Python:\n",
    "my_tuple = (1, 2, 3, \"Hello\", 5.0)\n",
    "\n",
    "In this example, my_tuple is a Python tuple that contains integers, a string, and a float. You can access individual elements by their index, just like in a list (my_tuple[0] to get the first element, which is 1).\n",
    "\n",
    "Tuples are often used in situations where you want to ensure that the data remains constant and cannot be accidentally modified. For example, tuples are frequently used as keys in dictionaries because dictionary keys must be immutable, and tuples fit this requirement.\n",
    "\n",
    "In summary, tuples are similar to lists in some respects, but their immutability sets them apart and makes them suitable for specific use cases where you need to store a collection of elements that should not change."
   ]
  },
  {
   "cell_type": "markdown",
   "id": "74f422cd",
   "metadata": {},
   "source": [
    "#### Q3. what is difference between list and tuple"
   ]
  },
  {
   "cell_type": "raw",
   "id": "41a3e43b",
   "metadata": {},
   "source": [
    "Lists and tuples in Python are both used to store collections of items, but they have some key differences:\n",
    "\n",
    "Mutability:\n",
    "\n",
    "List: Lists are mutable, meaning you can change, add, or remove elements after creating a list. You can use methods like append(), extend(), insert(), remove(), and pop() to modify lists in place.\n",
    "\n",
    "Tuple: Tuples are immutable, which means once you create a tuple and assign elements to it, you cannot change, add, or remove elements from the tuple. Tuples are fixed in size and content.\n",
    "\n",
    "Syntax:\n",
    "\n",
    "List: Lists are defined by enclosing a comma-separated sequence of elements within square brackets [ ].\n",
    "\n",
    "Tuple: Tuples are defined by enclosing a comma-separated sequence of elements within parentheses ( ). However, it's common to define tuples without parentheses by simply separating elements with commas.\n",
    "\n",
    "Performance:\n",
    "\n",
    "List: Lists are generally slightly slower than tuples when it comes to iteration and indexing because they are mutable, and Python needs to perform some extra checks to ensure their contents haven't changed.\n",
    "\n",
    "Tuple: Tuples are slightly faster than lists for iteration and indexing because they are immutable, and Python can make certain optimizations.\n",
    "\n",
    "Use Cases:\n",
    "\n",
    "List: Use lists when you need a collection of items that may change during the program's execution. Lists are suitable for situations where you want to perform operations like adding, removing, or modifying elements.\n",
    "\n",
    "Tuple: Use tuples when you want to store a collection of items that should not change. Tuples are useful for representing fixed sets of data, such as coordinates, database records, or function return values. They are also commonly used as keys in dictionaries due to their immutability.\n",
    "\n",
    "Here's a summary: If you need a collection of items that can change, use a list. If you need a collection of items that should remain constant, use a tuple. Your choice depends on whether mutability or immutability better suits your specific use case."
   ]
  },
  {
   "cell_type": "code",
   "execution_count": null,
   "id": "809e46fa",
   "metadata": {},
   "outputs": [],
   "source": []
  },
  {
   "cell_type": "markdown",
   "id": "ed6cd9af",
   "metadata": {},
   "source": [
    "#### Q4. Python program to find largest element in list"
   ]
  },
  {
   "cell_type": "code",
   "execution_count": 3,
   "id": "19774307",
   "metadata": {},
   "outputs": [
    {
     "name": "stdout",
     "output_type": "stream",
     "text": [
      "645\n"
     ]
    }
   ],
   "source": [
    "l1 = [23,34,2,3,1,34,645,4,56]\n",
    "c=0\n",
    "for i in l1:\n",
    "    if i>c:\n",
    "        c=i\n",
    "    elif c>i:\n",
    "        c=c\n",
    "print(c)"
   ]
  },
  {
   "cell_type": "code",
   "execution_count": 4,
   "id": "5a7b6af4",
   "metadata": {},
   "outputs": [],
   "source": [
    "# second methon using lambda and reduce function"
   ]
  },
  {
   "cell_type": "code",
   "execution_count": 1,
   "id": "ed2a37b2",
   "metadata": {},
   "outputs": [
    {
     "data": {
      "text/plain": [
       "645"
      ]
     },
     "execution_count": 1,
     "metadata": {},
     "output_type": "execute_result"
    }
   ],
   "source": [
    "from functools import reduce\n",
    "l1 = [23,34,2,3,1,34,645,4,56]\n",
    "reduce(lambda x,y : x if x>y else y , l1)"
   ]
  },
  {
   "cell_type": "code",
   "execution_count": null,
   "id": "859fce5d",
   "metadata": {},
   "outputs": [],
   "source": []
  },
  {
   "cell_type": "markdown",
   "id": "dbb188de",
   "metadata": {},
   "source": [
    "#### Q5. python program to interchange first and last element in list "
   ]
  },
  {
   "cell_type": "code",
   "execution_count": 9,
   "id": "49fb49e7",
   "metadata": {},
   "outputs": [],
   "source": [
    "l1 = [23,34,2,3,1,34,645,4,56]\n",
    "l1[0] , l1[-1] = l1[-1] , l1[0]"
   ]
  },
  {
   "cell_type": "code",
   "execution_count": 12,
   "id": "e2080ec3",
   "metadata": {},
   "outputs": [],
   "source": []
  },
  {
   "cell_type": "markdown",
   "id": "fb60828f",
   "metadata": {},
   "source": [
    "#### Q6. python program to swap two elements in list"
   ]
  },
  {
   "cell_type": "code",
   "execution_count": 14,
   "id": "b89a8d58",
   "metadata": {},
   "outputs": [],
   "source": [
    "l1 = [23,334,2,3,1,34,645,4,56]\n",
    "def swap(l1,a,b):\n",
    "    l1[a] , l1[b] = l1[b] , l1[a]\n",
    "    return l1"
   ]
  },
  {
   "cell_type": "code",
   "execution_count": 16,
   "id": "de5fe475",
   "metadata": {},
   "outputs": [
    {
     "data": {
      "text/plain": [
       "[334, 645, 2, 3, 1, 34, 23, 4, 56]"
      ]
     },
     "execution_count": 16,
     "metadata": {},
     "output_type": "execute_result"
    }
   ],
   "source": [
    "swap(l1,0,6)"
   ]
  },
  {
   "cell_type": "code",
   "execution_count": null,
   "id": "e1cb02c2",
   "metadata": {},
   "outputs": [],
   "source": []
  },
  {
   "cell_type": "markdown",
   "id": "3ec646d5",
   "metadata": {},
   "source": [
    "#### Q7. Python program to reverse a list "
   ]
  },
  {
   "cell_type": "code",
   "execution_count": 17,
   "id": "d3ba084f",
   "metadata": {},
   "outputs": [
    {
     "name": "stdout",
     "output_type": "stream",
     "text": [
      "56\n",
      "4\n",
      "645\n",
      "34\n",
      "1\n",
      "3\n",
      "2\n",
      "334\n",
      "23\n"
     ]
    }
   ],
   "source": [
    "l1 = [23,334,2,3,1,34,645,4,56]\n",
    "for i in l1[::-1]:\n",
    "    print(i)"
   ]
  },
  {
   "cell_type": "code",
   "execution_count": 19,
   "id": "2cfd0b5c",
   "metadata": {},
   "outputs": [
    {
     "data": {
      "text/plain": [
       "[56, 4, 645, 34, 1, 3, 2, 334, 23]"
      ]
     },
     "execution_count": 19,
     "metadata": {},
     "output_type": "execute_result"
    }
   ],
   "source": [
    "# using list comprehension\n",
    "l2 =[i for i in l1[::-1]]\n",
    "l2"
   ]
  },
  {
   "cell_type": "code",
   "execution_count": null,
   "id": "48da57a7",
   "metadata": {},
   "outputs": [],
   "source": []
  },
  {
   "cell_type": "markdown",
   "id": "09850a6e",
   "metadata": {},
   "source": [
    "#### Q8. Python program to count ocurrence of element in a list "
   ]
  },
  {
   "cell_type": "code",
   "execution_count": 21,
   "id": "d54f860f",
   "metadata": {},
   "outputs": [
    {
     "data": {
      "text/plain": [
       "4"
      ]
     },
     "execution_count": 21,
     "metadata": {},
     "output_type": "execute_result"
    }
   ],
   "source": [
    "l3=[1,24,3,3,2113,4,333,3,33,3]\n",
    "l3.count(3)"
   ]
  },
  {
   "cell_type": "code",
   "execution_count": null,
   "id": "6826955c",
   "metadata": {},
   "outputs": [],
   "source": []
  },
  {
   "cell_type": "markdown",
   "id": "9006bb63",
   "metadata": {},
   "source": [
    "#### Q9. Python program to find sum of element in list \n"
   ]
  },
  {
   "cell_type": "code",
   "execution_count": 22,
   "id": "3060431b",
   "metadata": {},
   "outputs": [
    {
     "name": "stdout",
     "output_type": "stream",
     "text": [
      "2520\n"
     ]
    }
   ],
   "source": [
    "l3=[1,24,3,3,2113,4,333,3,33,3]\n",
    "a=0\n",
    "for i in l3:\n",
    "    a += i\n",
    "print(a)"
   ]
  },
  {
   "cell_type": "code",
   "execution_count": null,
   "id": "79f94193",
   "metadata": {},
   "outputs": [],
   "source": []
  },
  {
   "cell_type": "markdown",
   "id": "dc7defee",
   "metadata": {},
   "source": [
    "#### Q10. Python program to multiply all numbers in list "
   ]
  },
  {
   "cell_type": "code",
   "execution_count": 2,
   "id": "be358eda",
   "metadata": {},
   "outputs": [
    {
     "name": "stdout",
     "output_type": "stream",
     "text": [
      "64\n"
     ]
    }
   ],
   "source": [
    "l1= [2,4,2,4]\n",
    "c=1\n",
    "for i in l1:\n",
    "    c *= i\n",
    "print(c)"
   ]
  },
  {
   "cell_type": "code",
   "execution_count": null,
   "id": "ff977463",
   "metadata": {},
   "outputs": [],
   "source": []
  },
  {
   "cell_type": "markdown",
   "id": "2dcec23d",
   "metadata": {},
   "source": [
    "#### Q11. What are the way to find length of the list "
   ]
  },
  {
   "cell_type": "code",
   "execution_count": 10,
   "id": "a48b0fb3",
   "metadata": {},
   "outputs": [
    {
     "data": {
      "text/plain": [
       "6"
      ]
     },
     "execution_count": 10,
     "metadata": {},
     "output_type": "execute_result"
    }
   ],
   "source": [
    "# Using the len() Function:\n",
    "l5 =[23,2,54,54,534,342]\n",
    "len(l5)\n"
   ]
  },
  {
   "cell_type": "markdown",
   "id": "7066fb84",
   "metadata": {},
   "source": [
    "#### Q12.  Python proram to find smallest and largest number in a list (without min and max function )"
   ]
  },
  {
   "cell_type": "code",
   "execution_count": 22,
   "id": "0470b20c",
   "metadata": {},
   "outputs": [
    {
     "name": "stdout",
     "output_type": "stream",
     "text": [
      "Largest Number in list 534\n",
      "Smallest Number in list 2\n"
     ]
    }
   ],
   "source": [
    "l5 =[23,2,54,54,534,342]\n",
    "c=0\n",
    "a=23\n",
    "for i in l5 :\n",
    "    if i>c:\n",
    "        c=i\n",
    "    elif i<a:\n",
    "        a=i\n",
    "print(f\"Largest Number in list {c}\")\n",
    "print(f\"Smallest Number in list {a}\")"
   ]
  },
  {
   "cell_type": "code",
   "execution_count": 23,
   "id": "ee72a3c1",
   "metadata": {},
   "outputs": [
    {
     "name": "stdout",
     "output_type": "stream",
     "text": [
      "Largest Number in list 534\n",
      "Smallest Number in list 2\n"
     ]
    }
   ],
   "source": [
    "# using reduce and lambda functin \n",
    "from functools import reduce \n",
    "l5 =[23,2,54,54,534,342]\n",
    "a = reduce(lambda x,y : x if x>y else y , l5)\n",
    "print(f\"Largest Number in list {a}\")\n",
    "b = reduce(lambda x,y : x if x<y else y , l5)\n",
    "print(f\"Smallest Number in list {b}\")"
   ]
  },
  {
   "cell_type": "code",
   "execution_count": null,
   "id": "5d294290",
   "metadata": {},
   "outputs": [],
   "source": []
  },
  {
   "cell_type": "markdown",
   "id": "940d6a6b",
   "metadata": {},
   "source": [
    "#### Q13. Python Program to find area of circle "
   ]
  },
  {
   "cell_type": "code",
   "execution_count": 30,
   "id": "5c8d4d03",
   "metadata": {},
   "outputs": [
    {
     "name": "stdout",
     "output_type": "stream",
     "text": [
      "153.93804002589985\n"
     ]
    }
   ],
   "source": [
    "import math \n",
    "area = 7\n",
    "circel = math.pi * area**2\n",
    "print(circel)"
   ]
  },
  {
   "cell_type": "code",
   "execution_count": 32,
   "id": "bd4380d1",
   "metadata": {},
   "outputs": [],
   "source": [
    "import math\n",
    "def area_circle(a):\n",
    "    circle = math.pi * a**2\n",
    "    return circle"
   ]
  },
  {
   "cell_type": "code",
   "execution_count": 33,
   "id": "bc5693a6",
   "metadata": {},
   "outputs": [
    {
     "data": {
      "text/plain": [
       "452.3893421169302"
      ]
     },
     "execution_count": 33,
     "metadata": {},
     "output_type": "execute_result"
    }
   ],
   "source": [
    "area_circle(12)"
   ]
  },
  {
   "cell_type": "code",
   "execution_count": null,
   "id": "79e0186e",
   "metadata": {},
   "outputs": [],
   "source": []
  },
  {
   "cell_type": "markdown",
   "id": "6ed5c1a4",
   "metadata": {},
   "source": [
    "#### Q14. Take a inpute from user to make a list again take a one input from user and search it in the list and delete that element if found iterate over a list using for loop "
   ]
  },
  {
   "cell_type": "code",
   "execution_count": 6,
   "id": "0b528a8b",
   "metadata": {},
   "outputs": [
    {
     "name": "stdout",
     "output_type": "stream",
     "text": [
      "Enter elements separated by spaces to create a list: 23 34 43\n",
      "Enter the element you want to search and delete: 23\n",
      "23 found and deleted from the list.\n",
      "Modified list after deletion:\n",
      "34 43 "
     ]
    }
   ],
   "source": [
    "# Step 1: Create a list from user input\n",
    "user_list = input(\"Enter elements separated by spaces to create a list: \").split()\n",
    "\n",
    "# Convert the input strings to integers (assuming the user enters integer values)\n",
    "user_list = [int(item) for item in user_list]\n",
    "\n",
    "# Step 2: Take input to search and delete an element\n",
    "element_to_delete = int(input(\"Enter the element you want to search and delete: \"))\n",
    "\n",
    "# Check if the element exists in the list and delete it if found\n",
    "if element_to_delete in user_list:\n",
    "    user_list.remove(element_to_delete)\n",
    "    print(f\"{element_to_delete} found and deleted from the list.\")\n",
    "else:\n",
    "    print(f\"{element_to_delete} not found in the list.\")\n",
    "\n",
    "# Step 3: Iterate over the modified list using a for loop\n",
    "print(\"Modified list after deletion:\")\n",
    "for item in user_list:\n",
    "    print(item, end=\" \")\n"
   ]
  },
  {
   "cell_type": "code",
   "execution_count": null,
   "id": "b49a90b7",
   "metadata": {},
   "outputs": [],
   "source": []
  },
  {
   "cell_type": "markdown",
   "id": "11fe3952",
   "metadata": {},
   "source": [
    "#### Q15. you are given a list of integer elements make a new list that store a square of elements of the previous list (with and without list comprehension )"
   ]
  },
  {
   "cell_type": "code",
   "execution_count": 9,
   "id": "85ad96b7",
   "metadata": {},
   "outputs": [
    {
     "name": "stdout",
     "output_type": "stream",
     "text": [
      "[4, 16, 25, 36, 49, 64]\n"
     ]
    }
   ],
   "source": [
    "# using list comprehension\n",
    "l1 = [2,4,5,6,7,8]\n",
    "l2 = [i**2 for i in l1 ]\n",
    "print(l2)"
   ]
  },
  {
   "cell_type": "code",
   "execution_count": 10,
   "id": "d88db541",
   "metadata": {},
   "outputs": [
    {
     "name": "stdout",
     "output_type": "stream",
     "text": [
      "[4, 9, 16, 25, 36, 49, 64, 81]\n"
     ]
    }
   ],
   "source": [
    "# without list comprehension\n",
    "l1 =[2,3,4,5,6,7,8,9]\n",
    "l2=[]\n",
    "for i in l1:\n",
    "    l2.append(i**2)\n",
    "print(l2)"
   ]
  },
  {
   "cell_type": "code",
   "execution_count": 20,
   "id": "0c6079cd",
   "metadata": {},
   "outputs": [],
   "source": [
    "def sq_lst(*chr):\n",
    "    for i in chr:\n",
    "        print(i**2)\n",
    "    "
   ]
  },
  {
   "cell_type": "code",
   "execution_count": 21,
   "id": "b6cd2d8a",
   "metadata": {},
   "outputs": [
    {
     "name": "stdout",
     "output_type": "stream",
     "text": [
      "4\n",
      "16\n",
      "36\n",
      "64\n"
     ]
    }
   ],
   "source": [
    "sq_lst(2,4,6,8)"
   ]
  },
  {
   "cell_type": "code",
   "execution_count": null,
   "id": "e8f87171",
   "metadata": {},
   "outputs": [],
   "source": []
  },
  {
   "cell_type": "markdown",
   "id": "1a93be2d",
   "metadata": {},
   "source": [
    "#### Q16. Write a program to create two lists one containing all even numbers and the other containg all odd numbers between 0 to 151"
   ]
  },
  {
   "cell_type": "code",
   "execution_count": 24,
   "id": "f798a415",
   "metadata": {},
   "outputs": [
    {
     "name": "stdout",
     "output_type": "stream",
     "text": [
      "Even Numbers list : [0, 2, 4, 6, 8, 10, 12, 14, 16, 18, 20, 22, 24, 26, 28, 30, 32, 34, 36, 38, 40, 42, 44, 46, 48, 50, 52, 54, 56, 58, 60, 62, 64, 66, 68, 70, 72, 74, 76, 78, 80, 82, 84, 86, 88, 90, 92, 94, 96, 98, 100, 102, 104, 106, 108, 110, 112, 114, 116, 118, 120, 122, 124, 126, 128, 130, 132, 134, 136, 138, 140, 142, 144, 146, 148, 150]\n",
      "Odd numbers list : [1, 3, 5, 7, 9, 11, 13, 15, 17, 19, 21, 23, 25, 27, 29, 31, 33, 35, 37, 39, 41, 43, 45, 47, 49, 51, 53, 55, 57, 59, 61, 63, 65, 67, 69, 71, 73, 75, 77, 79, 81, 83, 85, 87, 89, 91, 93, 95, 97, 99, 101, 103, 105, 107, 109, 111, 113, 115, 117, 119, 121, 123, 125, 127, 129, 131, 133, 135, 137, 139, 141, 143, 145, 147, 149, 151]\n"
     ]
    }
   ],
   "source": [
    "l1 = [i for i in range(0,152) if i%2==0]\n",
    "print(f\"Even Numbers list : {l1}\")\n",
    "l2 = [i for i in range(0,152) if i%2!=0]\n",
    "print(f\"Odd numbers list : {l2}\")"
   ]
  },
  {
   "cell_type": "code",
   "execution_count": null,
   "id": "7c91a955",
   "metadata": {},
   "outputs": [],
   "source": []
  },
  {
   "cell_type": "markdown",
   "id": "fdb38654",
   "metadata": {},
   "source": [
    "#### Q17. Write a python program to count even and odd numbers in list "
   ]
  },
  {
   "cell_type": "code",
   "execution_count": 28,
   "id": "acb8c0cd",
   "metadata": {},
   "outputs": [
    {
     "name": "stdout",
     "output_type": "stream",
     "text": [
      "Total Even numbers in list : 8\n",
      "Total odd numbers in list   7\n"
     ]
    }
   ],
   "source": [
    "l1 = [2324,4234,23244,23,45,345,342,342,45,6345,345,342,3556,7867,56]\n",
    "count_even = 0\n",
    "count_odd = 0\n",
    "for i in l1:\n",
    "    if i%2==0:\n",
    "        count_even+=1\n",
    "    else:\n",
    "        count_odd+=1\n",
    "\n",
    "print(\"Total Even numbers in list :\",count_even)\n",
    "print(\"Total odd numbers in list  \",count_odd)"
   ]
  },
  {
   "cell_type": "code",
   "execution_count": null,
   "id": "73bfadc7",
   "metadata": {},
   "outputs": [],
   "source": []
  },
  {
   "cell_type": "markdown",
   "id": "9754acb0",
   "metadata": {},
   "source": [
    "#### Q18. Write a program to make a new list , containing only numbers which are divisible by 4,6,8,10,3,5,7 and 9 in seprate lists for range (0,151)"
   ]
  },
  {
   "cell_type": "code",
   "execution_count": 32,
   "id": "3ffb466c",
   "metadata": {},
   "outputs": [
    {
     "name": "stdout",
     "output_type": "stream",
     "text": [
      "Numbers which are Divisible by 4 : [0, 4, 8, 12, 16, 20, 24, 28, 32, 36, 40, 44, 48, 52, 56, 60, 64, 68, 72, 76, 80, 84, 88, 92, 96, 100, 104, 108, 112, 116, 120, 124, 128, 132, 136, 140, 144, 148]\n",
      "Numbers which are Divisible by 6 : [0, 6, 12, 18, 24, 30, 36, 42, 48, 54, 60, 66, 72, 78, 84, 90, 96, 102, 108, 114, 120, 126, 132, 138, 144, 150]\n",
      "Numbers which are Divisible by 8 : [0, 8, 16, 24, 32, 40, 48, 56, 64, 72, 80, 88, 96, 104, 112, 120, 128, 136, 144]\n",
      "Numbers which are Divisible by 10 : [0, 10, 20, 30, 40, 50, 60, 70, 80, 90, 100, 110, 120, 130, 140, 150]\n",
      "Numbers which are Divisible by 3 : [0, 3, 6, 9, 12, 15, 18, 21, 24, 27, 30, 33, 36, 39, 42, 45, 48, 51, 54, 57, 60, 63, 66, 69, 72, 75, 78, 81, 84, 87, 90, 93, 96, 99, 102, 105, 108, 111, 114, 117, 120, 123, 126, 129, 132, 135, 138, 141, 144, 147, 150]\n",
      "Numbers which are Divisible by 5 : [0, 5, 10, 15, 20, 25, 30, 35, 40, 45, 50, 55, 60, 65, 70, 75, 80, 85, 90, 95, 100, 105, 110, 115, 120, 125, 130, 135, 140, 145, 150]\n",
      "Numbers which are Divisible by 7 : [0, 7, 14, 21, 28, 35, 42, 49, 56, 63, 70, 77, 84, 91, 98, 105, 112, 119, 126, 133, 140, 147]\n",
      "Numbers which are Divisible by 9 : [0, 9, 18, 27, 36, 45, 54, 63, 72, 81, 90, 99, 108, 117, 126, 135, 144]\n"
     ]
    }
   ],
   "source": [
    "l4=[i for i in range(0,151) if i%4==0]\n",
    "l6=[i for i in range(0,151) if i%6==0]\n",
    "l8=[i for i in range(0,151) if i%8==0]\n",
    "l10=[i for i in range(0,151) if i%10==0]\n",
    "l3=[i for i in range(0,151) if i%3==0]\n",
    "l5=[i for i in range(0,151) if i%5==0]\n",
    "l7=[i for i in range(0,151) if i%7==0]\n",
    "l9=[i for i in range(0,151) if i%9==0]\n",
    "\n",
    "\n",
    "print(f\"Numbers which are Divisible by 4 : {l4}\")\n",
    "print(f\"Numbers which are Divisible by 6 : {l6}\")\n",
    "print(f\"Numbers which are Divisible by 8 : {l8}\")\n",
    "print(f\"Numbers which are Divisible by 10 : {l10}\")\n",
    "print(f\"Numbers which are Divisible by 3 : {l3}\")\n",
    "print(f\"Numbers which are Divisible by 5 : {l5}\")\n",
    "print(f\"Numbers which are Divisible by 7 : {l7}\")\n",
    "print(f\"Numbers which are Divisible by 9 : {l9}\")"
   ]
  },
  {
   "cell_type": "code",
   "execution_count": null,
   "id": "aef44067",
   "metadata": {},
   "outputs": [],
   "source": []
  },
  {
   "cell_type": "markdown",
   "id": "98f6c5ca",
   "metadata": {},
   "source": [
    "#### Q19. from a list containing integers,stings and float make three list to store them sepratly"
   ]
  },
  {
   "cell_type": "code",
   "execution_count": 40,
   "id": "953578dd",
   "metadata": {},
   "outputs": [
    {
     "data": {
      "text/plain": [
       "[]"
      ]
     },
     "execution_count": 40,
     "metadata": {},
     "output_type": "execute_result"
    }
   ],
   "source": [
    "l2"
   ]
  },
  {
   "cell_type": "code",
   "execution_count": null,
   "id": "65cfa6ec",
   "metadata": {},
   "outputs": [],
   "source": []
  },
  {
   "cell_type": "code",
   "execution_count": null,
   "id": "c41eb135",
   "metadata": {},
   "outputs": [],
   "source": []
  },
  {
   "cell_type": "code",
   "execution_count": null,
   "id": "b976e60d",
   "metadata": {},
   "outputs": [],
   "source": []
  },
  {
   "cell_type": "code",
   "execution_count": null,
   "id": "83c63a5d",
   "metadata": {},
   "outputs": [],
   "source": []
  },
  {
   "cell_type": "code",
   "execution_count": null,
   "id": "760c2946",
   "metadata": {},
   "outputs": [],
   "source": []
  }
 ],
 "metadata": {
  "kernelspec": {
   "display_name": "Python 3 (ipykernel)",
   "language": "python",
   "name": "python3"
  },
  "language_info": {
   "codemirror_mode": {
    "name": "ipython",
    "version": 3
   },
   "file_extension": ".py",
   "mimetype": "text/x-python",
   "name": "python",
   "nbconvert_exporter": "python",
   "pygments_lexer": "ipython3",
   "version": "3.11.7"
  }
 },
 "nbformat": 4,
 "nbformat_minor": 5
}
