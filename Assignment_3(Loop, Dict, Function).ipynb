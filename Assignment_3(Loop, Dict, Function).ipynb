{
 "cells": [
  {
   "cell_type": "markdown",
   "id": "e73fb11b",
   "metadata": {},
   "source": [
    "###### Write Python programs "
   ]
  },
  {
   "cell_type": "code",
   "execution_count": null,
   "id": "67d8cc0f",
   "metadata": {},
   "outputs": [],
   "source": [
    "1. Python program to sort Python Dictionaries by Keys\n",
    "2. Python program to sort Python Dictionaries by Values\n",
    "3. Python program to find the sum of all items in a dictionary\n",
    "4. Python program to remove a key from a dictionary\n",
    "5. Python program to merge two Dictionaries\n",
    "6. Program to create grade calculator in Python\n",
    "7. Print anagrams together in Python using List and Dictionary\n",
    "8. Check if binary representations of two numbers are an anagram\n",
    "9. Python Counter to find the size of the largest subset of anagram words\n",
    "10. Python Dictionary to find mirror characters in a string\n",
    "11. Counting the frequencies in a list using a dictionary in Python\n",
    "12. Python program to convert a list of Tuples into Dictionary\n",
    "13. Scraping And Finding Ordered Words In A Dictionary using Python\n",
    "14. Create a list of tuples from the given list having a number and its cube in each tuple\n",
    "15. Sort a list of tuples by the second Item\n",
    "16. Python Program for Insertion Sort\n",
    "17. Python Program for SelectionSort\n",
    "18. Python Program for Bubble Sort\n",
    "19. Python Program for Merge Sort\n",
    "20. Python Program for QuickSortSor"
   ]
  }
 ],
 "metadata": {
  "kernelspec": {
   "display_name": "Python 3 (ipykernel)",
   "language": "python",
   "name": "python3"
  },
  "language_info": {
   "codemirror_mode": {
    "name": "ipython",
    "version": 3
   },
   "file_extension": ".py",
   "mimetype": "text/x-python",
   "name": "python",
   "nbconvert_exporter": "python",
   "pygments_lexer": "ipython3",
   "version": "3.9.13"
  }
 },
 "nbformat": 4,
 "nbformat_minor": 5
}
